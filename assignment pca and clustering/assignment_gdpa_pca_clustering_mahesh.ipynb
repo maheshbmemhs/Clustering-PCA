{
 "cells": [
  {
   "cell_type": "code",
   "execution_count": 910,
   "metadata": {},
   "outputs": [],
   "source": [
    "import pandas as pd\n",
    "import numpy as np"
   ]
  },
  {
   "cell_type": "markdown",
   "metadata": {},
   "source": [
    "### Data Reading and Cleaning"
   ]
  },
  {
   "cell_type": "code",
   "execution_count": 911,
   "metadata": {},
   "outputs": [
    {
     "data": {
      "text/html": [
       "<div>\n",
       "<style scoped>\n",
       "    .dataframe tbody tr th:only-of-type {\n",
       "        vertical-align: middle;\n",
       "    }\n",
       "\n",
       "    .dataframe tbody tr th {\n",
       "        vertical-align: top;\n",
       "    }\n",
       "\n",
       "    .dataframe thead th {\n",
       "        text-align: right;\n",
       "    }\n",
       "</style>\n",
       "<table border=\"1\" class=\"dataframe\">\n",
       "  <thead>\n",
       "    <tr style=\"text-align: right;\">\n",
       "      <th></th>\n",
       "      <th>country</th>\n",
       "      <th>child_mort</th>\n",
       "      <th>exports</th>\n",
       "      <th>health</th>\n",
       "      <th>imports</th>\n",
       "      <th>income</th>\n",
       "      <th>inflation</th>\n",
       "      <th>life_expec</th>\n",
       "      <th>total_fer</th>\n",
       "      <th>gdpp</th>\n",
       "    </tr>\n",
       "  </thead>\n",
       "  <tbody>\n",
       "    <tr>\n",
       "      <th>0</th>\n",
       "      <td>Afghanistan</td>\n",
       "      <td>90.2</td>\n",
       "      <td>10.0</td>\n",
       "      <td>7.58</td>\n",
       "      <td>44.9</td>\n",
       "      <td>1610</td>\n",
       "      <td>9.44</td>\n",
       "      <td>56.2</td>\n",
       "      <td>5.82</td>\n",
       "      <td>553</td>\n",
       "    </tr>\n",
       "    <tr>\n",
       "      <th>1</th>\n",
       "      <td>Albania</td>\n",
       "      <td>16.6</td>\n",
       "      <td>28.0</td>\n",
       "      <td>6.55</td>\n",
       "      <td>48.6</td>\n",
       "      <td>9930</td>\n",
       "      <td>4.49</td>\n",
       "      <td>76.3</td>\n",
       "      <td>1.65</td>\n",
       "      <td>4090</td>\n",
       "    </tr>\n",
       "    <tr>\n",
       "      <th>2</th>\n",
       "      <td>Algeria</td>\n",
       "      <td>27.3</td>\n",
       "      <td>38.4</td>\n",
       "      <td>4.17</td>\n",
       "      <td>31.4</td>\n",
       "      <td>12900</td>\n",
       "      <td>16.10</td>\n",
       "      <td>76.5</td>\n",
       "      <td>2.89</td>\n",
       "      <td>4460</td>\n",
       "    </tr>\n",
       "    <tr>\n",
       "      <th>3</th>\n",
       "      <td>Angola</td>\n",
       "      <td>119.0</td>\n",
       "      <td>62.3</td>\n",
       "      <td>2.85</td>\n",
       "      <td>42.9</td>\n",
       "      <td>5900</td>\n",
       "      <td>22.40</td>\n",
       "      <td>60.1</td>\n",
       "      <td>6.16</td>\n",
       "      <td>3530</td>\n",
       "    </tr>\n",
       "    <tr>\n",
       "      <th>4</th>\n",
       "      <td>Antigua and Barbuda</td>\n",
       "      <td>10.3</td>\n",
       "      <td>45.5</td>\n",
       "      <td>6.03</td>\n",
       "      <td>58.9</td>\n",
       "      <td>19100</td>\n",
       "      <td>1.44</td>\n",
       "      <td>76.8</td>\n",
       "      <td>2.13</td>\n",
       "      <td>12200</td>\n",
       "    </tr>\n",
       "  </tbody>\n",
       "</table>\n",
       "</div>"
      ],
      "text/plain": [
       "               country  child_mort  exports  health  imports  income  \\\n",
       "0          Afghanistan        90.2     10.0    7.58     44.9    1610   \n",
       "1              Albania        16.6     28.0    6.55     48.6    9930   \n",
       "2              Algeria        27.3     38.4    4.17     31.4   12900   \n",
       "3               Angola       119.0     62.3    2.85     42.9    5900   \n",
       "4  Antigua and Barbuda        10.3     45.5    6.03     58.9   19100   \n",
       "\n",
       "   inflation  life_expec  total_fer   gdpp  \n",
       "0       9.44        56.2       5.82    553  \n",
       "1       4.49        76.3       1.65   4090  \n",
       "2      16.10        76.5       2.89   4460  \n",
       "3      22.40        60.1       6.16   3530  \n",
       "4       1.44        76.8       2.13  12200  "
      ]
     },
     "execution_count": 911,
     "metadata": {},
     "output_type": "execute_result"
    }
   ],
   "source": [
    "#Reading the data\n",
    "df=pd.read_csv('Country-data.csv')\n",
    "df.head()"
   ]
  },
  {
   "cell_type": "code",
   "execution_count": 912,
   "metadata": {},
   "outputs": [
    {
     "name": "stdout",
     "output_type": "stream",
     "text": [
      "<class 'pandas.core.frame.DataFrame'>\n",
      "RangeIndex: 167 entries, 0 to 166\n",
      "Data columns (total 10 columns):\n",
      "country       167 non-null object\n",
      "child_mort    167 non-null float64\n",
      "exports       167 non-null float64\n",
      "health        167 non-null float64\n",
      "imports       167 non-null float64\n",
      "income        167 non-null int64\n",
      "inflation     167 non-null float64\n",
      "life_expec    167 non-null float64\n",
      "total_fer     167 non-null float64\n",
      "gdpp          167 non-null int64\n",
      "dtypes: float64(7), int64(2), object(1)\n",
      "memory usage: 13.1+ KB\n"
     ]
    }
   ],
   "source": [
    "df.info()\n",
    "#we can see that there are no missing values"
   ]
  },
  {
   "cell_type": "code",
   "execution_count": 913,
   "metadata": {
    "scrolled": true
   },
   "outputs": [
    {
     "data": {
      "text/plain": [
       "array(['Afghanistan', 'Albania', 'Algeria', 'Angola',\n",
       "       'Antigua and Barbuda', 'Argentina', 'Armenia', 'Australia',\n",
       "       'Austria', 'Azerbaijan', 'Bahamas', 'Bahrain', 'Bangladesh',\n",
       "       'Barbados', 'Belarus', 'Belgium', 'Belize', 'Benin', 'Bhutan',\n",
       "       'Bolivia', 'Bosnia and Herzegovina', 'Botswana', 'Brazil',\n",
       "       'Brunei', 'Bulgaria', 'Burkina Faso', 'Burundi', 'Cambodia',\n",
       "       'Cameroon', 'Canada', 'Cape Verde', 'Central African Republic',\n",
       "       'Chad', 'Chile', 'China', 'Colombia', 'Comoros',\n",
       "       'Congo, Dem. Rep.', 'Congo, Rep.', 'Costa Rica', \"Cote d'Ivoire\",\n",
       "       'Croatia', 'Cyprus', 'Czech Republic', 'Denmark',\n",
       "       'Dominican Republic', 'Ecuador', 'Egypt', 'El Salvador',\n",
       "       'Equatorial Guinea', 'Eritrea', 'Estonia', 'Fiji', 'Finland',\n",
       "       'France', 'Gabon', 'Gambia', 'Georgia', 'Germany', 'Ghana',\n",
       "       'Greece', 'Grenada', 'Guatemala', 'Guinea', 'Guinea-Bissau',\n",
       "       'Guyana', 'Haiti', 'Hungary', 'Iceland', 'India', 'Indonesia',\n",
       "       'Iran', 'Iraq', 'Ireland', 'Israel', 'Italy', 'Jamaica', 'Japan',\n",
       "       'Jordan', 'Kazakhstan', 'Kenya', 'Kiribati', 'Kuwait',\n",
       "       'Kyrgyz Republic', 'Lao', 'Latvia', 'Lebanon', 'Lesotho',\n",
       "       'Liberia', 'Libya', 'Lithuania', 'Luxembourg', 'Macedonia, FYR',\n",
       "       'Madagascar', 'Malawi', 'Malaysia', 'Maldives', 'Mali', 'Malta',\n",
       "       'Mauritania', 'Mauritius', 'Micronesia, Fed. Sts.', 'Moldova',\n",
       "       'Mongolia', 'Montenegro', 'Morocco', 'Mozambique', 'Myanmar',\n",
       "       'Namibia', 'Nepal', 'Netherlands', 'New Zealand', 'Niger',\n",
       "       'Nigeria', 'Norway', 'Oman', 'Pakistan', 'Panama', 'Paraguay',\n",
       "       'Peru', 'Philippines', 'Poland', 'Portugal', 'Qatar', 'Romania',\n",
       "       'Russia', 'Rwanda', 'Samoa', 'Saudi Arabia', 'Senegal', 'Serbia',\n",
       "       'Seychelles', 'Sierra Leone', 'Singapore', 'Slovak Republic',\n",
       "       'Slovenia', 'Solomon Islands', 'South Africa', 'South Korea',\n",
       "       'Spain', 'Sri Lanka', 'St. Vincent and the Grenadines', 'Sudan',\n",
       "       'Suriname', 'Sweden', 'Switzerland', 'Tajikistan', 'Tanzania',\n",
       "       'Thailand', 'Timor-Leste', 'Togo', 'Tonga', 'Tunisia', 'Turkey',\n",
       "       'Turkmenistan', 'Uganda', 'Ukraine', 'United Arab Emirates',\n",
       "       'United Kingdom', 'United States', 'Uruguay', 'Uzbekistan',\n",
       "       'Vanuatu', 'Venezuela', 'Vietnam', 'Yemen', 'Zambia'], dtype=object)"
      ]
     },
     "execution_count": 913,
     "metadata": {},
     "output_type": "execute_result"
    }
   ],
   "source": [
    "#checking for any spelling errors in country column by checking unique values of column\n",
    "df.country.unique()"
   ]
  },
  {
   "cell_type": "code",
   "execution_count": 914,
   "metadata": {},
   "outputs": [
    {
     "data": {
      "text/html": [
       "<div>\n",
       "<style scoped>\n",
       "    .dataframe tbody tr th:only-of-type {\n",
       "        vertical-align: middle;\n",
       "    }\n",
       "\n",
       "    .dataframe tbody tr th {\n",
       "        vertical-align: top;\n",
       "    }\n",
       "\n",
       "    .dataframe thead th {\n",
       "        text-align: right;\n",
       "    }\n",
       "</style>\n",
       "<table border=\"1\" class=\"dataframe\">\n",
       "  <thead>\n",
       "    <tr style=\"text-align: right;\">\n",
       "      <th></th>\n",
       "      <th>child_mort</th>\n",
       "      <th>exports</th>\n",
       "      <th>health</th>\n",
       "      <th>imports</th>\n",
       "      <th>income</th>\n",
       "      <th>inflation</th>\n",
       "      <th>life_expec</th>\n",
       "      <th>total_fer</th>\n",
       "      <th>gdpp</th>\n",
       "    </tr>\n",
       "  </thead>\n",
       "  <tbody>\n",
       "    <tr>\n",
       "      <th>count</th>\n",
       "      <td>167.000000</td>\n",
       "      <td>167.000000</td>\n",
       "      <td>167.000000</td>\n",
       "      <td>167.000000</td>\n",
       "      <td>167.000000</td>\n",
       "      <td>167.000000</td>\n",
       "      <td>167.000000</td>\n",
       "      <td>167.000000</td>\n",
       "      <td>167.000000</td>\n",
       "    </tr>\n",
       "    <tr>\n",
       "      <th>mean</th>\n",
       "      <td>38.270060</td>\n",
       "      <td>41.108976</td>\n",
       "      <td>6.815689</td>\n",
       "      <td>46.890215</td>\n",
       "      <td>17144.688623</td>\n",
       "      <td>7.781832</td>\n",
       "      <td>70.555689</td>\n",
       "      <td>2.947964</td>\n",
       "      <td>12964.155689</td>\n",
       "    </tr>\n",
       "    <tr>\n",
       "      <th>std</th>\n",
       "      <td>40.328931</td>\n",
       "      <td>27.412010</td>\n",
       "      <td>2.746837</td>\n",
       "      <td>24.209589</td>\n",
       "      <td>19278.067698</td>\n",
       "      <td>10.570704</td>\n",
       "      <td>8.893172</td>\n",
       "      <td>1.513848</td>\n",
       "      <td>18328.704809</td>\n",
       "    </tr>\n",
       "    <tr>\n",
       "      <th>min</th>\n",
       "      <td>2.600000</td>\n",
       "      <td>0.109000</td>\n",
       "      <td>1.810000</td>\n",
       "      <td>0.065900</td>\n",
       "      <td>609.000000</td>\n",
       "      <td>-4.210000</td>\n",
       "      <td>32.100000</td>\n",
       "      <td>1.150000</td>\n",
       "      <td>231.000000</td>\n",
       "    </tr>\n",
       "    <tr>\n",
       "      <th>25%</th>\n",
       "      <td>8.250000</td>\n",
       "      <td>23.800000</td>\n",
       "      <td>4.920000</td>\n",
       "      <td>30.200000</td>\n",
       "      <td>3355.000000</td>\n",
       "      <td>1.810000</td>\n",
       "      <td>65.300000</td>\n",
       "      <td>1.795000</td>\n",
       "      <td>1330.000000</td>\n",
       "    </tr>\n",
       "    <tr>\n",
       "      <th>50%</th>\n",
       "      <td>19.300000</td>\n",
       "      <td>35.000000</td>\n",
       "      <td>6.320000</td>\n",
       "      <td>43.300000</td>\n",
       "      <td>9960.000000</td>\n",
       "      <td>5.390000</td>\n",
       "      <td>73.100000</td>\n",
       "      <td>2.410000</td>\n",
       "      <td>4660.000000</td>\n",
       "    </tr>\n",
       "    <tr>\n",
       "      <th>75%</th>\n",
       "      <td>62.100000</td>\n",
       "      <td>51.350000</td>\n",
       "      <td>8.600000</td>\n",
       "      <td>58.750000</td>\n",
       "      <td>22800.000000</td>\n",
       "      <td>10.750000</td>\n",
       "      <td>76.800000</td>\n",
       "      <td>3.880000</td>\n",
       "      <td>14050.000000</td>\n",
       "    </tr>\n",
       "    <tr>\n",
       "      <th>90%</th>\n",
       "      <td>100.220000</td>\n",
       "      <td>70.800000</td>\n",
       "      <td>10.940000</td>\n",
       "      <td>75.420000</td>\n",
       "      <td>41220.000000</td>\n",
       "      <td>16.640000</td>\n",
       "      <td>80.400000</td>\n",
       "      <td>5.322000</td>\n",
       "      <td>41840.000000</td>\n",
       "    </tr>\n",
       "    <tr>\n",
       "      <th>95%</th>\n",
       "      <td>116.000000</td>\n",
       "      <td>80.570000</td>\n",
       "      <td>11.570000</td>\n",
       "      <td>81.140000</td>\n",
       "      <td>48290.000000</td>\n",
       "      <td>20.870000</td>\n",
       "      <td>81.400000</td>\n",
       "      <td>5.861000</td>\n",
       "      <td>48610.000000</td>\n",
       "    </tr>\n",
       "    <tr>\n",
       "      <th>99%</th>\n",
       "      <td>153.400000</td>\n",
       "      <td>160.480000</td>\n",
       "      <td>13.474000</td>\n",
       "      <td>146.080000</td>\n",
       "      <td>84374.000000</td>\n",
       "      <td>41.478000</td>\n",
       "      <td>82.370000</td>\n",
       "      <td>6.563600</td>\n",
       "      <td>79088.000000</td>\n",
       "    </tr>\n",
       "    <tr>\n",
       "      <th>max</th>\n",
       "      <td>208.000000</td>\n",
       "      <td>200.000000</td>\n",
       "      <td>17.900000</td>\n",
       "      <td>174.000000</td>\n",
       "      <td>125000.000000</td>\n",
       "      <td>104.000000</td>\n",
       "      <td>82.800000</td>\n",
       "      <td>7.490000</td>\n",
       "      <td>105000.000000</td>\n",
       "    </tr>\n",
       "  </tbody>\n",
       "</table>\n",
       "</div>"
      ],
      "text/plain": [
       "       child_mort     exports      health     imports         income  \\\n",
       "count  167.000000  167.000000  167.000000  167.000000     167.000000   \n",
       "mean    38.270060   41.108976    6.815689   46.890215   17144.688623   \n",
       "std     40.328931   27.412010    2.746837   24.209589   19278.067698   \n",
       "min      2.600000    0.109000    1.810000    0.065900     609.000000   \n",
       "25%      8.250000   23.800000    4.920000   30.200000    3355.000000   \n",
       "50%     19.300000   35.000000    6.320000   43.300000    9960.000000   \n",
       "75%     62.100000   51.350000    8.600000   58.750000   22800.000000   \n",
       "90%    100.220000   70.800000   10.940000   75.420000   41220.000000   \n",
       "95%    116.000000   80.570000   11.570000   81.140000   48290.000000   \n",
       "99%    153.400000  160.480000   13.474000  146.080000   84374.000000   \n",
       "max    208.000000  200.000000   17.900000  174.000000  125000.000000   \n",
       "\n",
       "        inflation  life_expec   total_fer           gdpp  \n",
       "count  167.000000  167.000000  167.000000     167.000000  \n",
       "mean     7.781832   70.555689    2.947964   12964.155689  \n",
       "std     10.570704    8.893172    1.513848   18328.704809  \n",
       "min     -4.210000   32.100000    1.150000     231.000000  \n",
       "25%      1.810000   65.300000    1.795000    1330.000000  \n",
       "50%      5.390000   73.100000    2.410000    4660.000000  \n",
       "75%     10.750000   76.800000    3.880000   14050.000000  \n",
       "90%     16.640000   80.400000    5.322000   41840.000000  \n",
       "95%     20.870000   81.400000    5.861000   48610.000000  \n",
       "99%     41.478000   82.370000    6.563600   79088.000000  \n",
       "max    104.000000   82.800000    7.490000  105000.000000  "
      ]
     },
     "execution_count": 914,
     "metadata": {},
     "output_type": "execute_result"
    }
   ],
   "source": [
    "df.describe(percentiles=[0.25,0.5,0.75,0.90,0.95,0.99])"
   ]
  },
  {
   "cell_type": "code",
   "execution_count": 915,
   "metadata": {},
   "outputs": [],
   "source": [
    "#Converting exports,health,imports to original valuses which are now in percetage\n",
    "df['exports_per_capita']=df['exports']*df['gdpp']/100\n",
    "df['health_per_capita']=df['health']*df['gdpp']/100\n",
    "df['imports_per_capita']=df['imports']*df['gdpp']/100"
   ]
  },
  {
   "cell_type": "code",
   "execution_count": 916,
   "metadata": {},
   "outputs": [
    {
     "data": {
      "text/html": [
       "<div>\n",
       "<style scoped>\n",
       "    .dataframe tbody tr th:only-of-type {\n",
       "        vertical-align: middle;\n",
       "    }\n",
       "\n",
       "    .dataframe tbody tr th {\n",
       "        vertical-align: top;\n",
       "    }\n",
       "\n",
       "    .dataframe thead th {\n",
       "        text-align: right;\n",
       "    }\n",
       "</style>\n",
       "<table border=\"1\" class=\"dataframe\">\n",
       "  <thead>\n",
       "    <tr style=\"text-align: right;\">\n",
       "      <th></th>\n",
       "      <th>country</th>\n",
       "      <th>child_mort</th>\n",
       "      <th>exports</th>\n",
       "      <th>health</th>\n",
       "      <th>imports</th>\n",
       "      <th>income</th>\n",
       "      <th>inflation</th>\n",
       "      <th>life_expec</th>\n",
       "      <th>total_fer</th>\n",
       "      <th>gdpp</th>\n",
       "      <th>exports_per_capita</th>\n",
       "      <th>health_per_capita</th>\n",
       "      <th>imports_per_capita</th>\n",
       "    </tr>\n",
       "  </thead>\n",
       "  <tbody>\n",
       "    <tr>\n",
       "      <th>0</th>\n",
       "      <td>Afghanistan</td>\n",
       "      <td>90.2</td>\n",
       "      <td>10.0</td>\n",
       "      <td>7.58</td>\n",
       "      <td>44.9</td>\n",
       "      <td>1610</td>\n",
       "      <td>9.44</td>\n",
       "      <td>56.2</td>\n",
       "      <td>5.82</td>\n",
       "      <td>553</td>\n",
       "      <td>55.30</td>\n",
       "      <td>41.9174</td>\n",
       "      <td>248.297</td>\n",
       "    </tr>\n",
       "    <tr>\n",
       "      <th>1</th>\n",
       "      <td>Albania</td>\n",
       "      <td>16.6</td>\n",
       "      <td>28.0</td>\n",
       "      <td>6.55</td>\n",
       "      <td>48.6</td>\n",
       "      <td>9930</td>\n",
       "      <td>4.49</td>\n",
       "      <td>76.3</td>\n",
       "      <td>1.65</td>\n",
       "      <td>4090</td>\n",
       "      <td>1145.20</td>\n",
       "      <td>267.8950</td>\n",
       "      <td>1987.740</td>\n",
       "    </tr>\n",
       "    <tr>\n",
       "      <th>2</th>\n",
       "      <td>Algeria</td>\n",
       "      <td>27.3</td>\n",
       "      <td>38.4</td>\n",
       "      <td>4.17</td>\n",
       "      <td>31.4</td>\n",
       "      <td>12900</td>\n",
       "      <td>16.10</td>\n",
       "      <td>76.5</td>\n",
       "      <td>2.89</td>\n",
       "      <td>4460</td>\n",
       "      <td>1712.64</td>\n",
       "      <td>185.9820</td>\n",
       "      <td>1400.440</td>\n",
       "    </tr>\n",
       "    <tr>\n",
       "      <th>3</th>\n",
       "      <td>Angola</td>\n",
       "      <td>119.0</td>\n",
       "      <td>62.3</td>\n",
       "      <td>2.85</td>\n",
       "      <td>42.9</td>\n",
       "      <td>5900</td>\n",
       "      <td>22.40</td>\n",
       "      <td>60.1</td>\n",
       "      <td>6.16</td>\n",
       "      <td>3530</td>\n",
       "      <td>2199.19</td>\n",
       "      <td>100.6050</td>\n",
       "      <td>1514.370</td>\n",
       "    </tr>\n",
       "    <tr>\n",
       "      <th>4</th>\n",
       "      <td>Antigua and Barbuda</td>\n",
       "      <td>10.3</td>\n",
       "      <td>45.5</td>\n",
       "      <td>6.03</td>\n",
       "      <td>58.9</td>\n",
       "      <td>19100</td>\n",
       "      <td>1.44</td>\n",
       "      <td>76.8</td>\n",
       "      <td>2.13</td>\n",
       "      <td>12200</td>\n",
       "      <td>5551.00</td>\n",
       "      <td>735.6600</td>\n",
       "      <td>7185.800</td>\n",
       "    </tr>\n",
       "  </tbody>\n",
       "</table>\n",
       "</div>"
      ],
      "text/plain": [
       "               country  child_mort  exports  health  imports  income  \\\n",
       "0          Afghanistan        90.2     10.0    7.58     44.9    1610   \n",
       "1              Albania        16.6     28.0    6.55     48.6    9930   \n",
       "2              Algeria        27.3     38.4    4.17     31.4   12900   \n",
       "3               Angola       119.0     62.3    2.85     42.9    5900   \n",
       "4  Antigua and Barbuda        10.3     45.5    6.03     58.9   19100   \n",
       "\n",
       "   inflation  life_expec  total_fer   gdpp  exports_per_capita  \\\n",
       "0       9.44        56.2       5.82    553               55.30   \n",
       "1       4.49        76.3       1.65   4090             1145.20   \n",
       "2      16.10        76.5       2.89   4460             1712.64   \n",
       "3      22.40        60.1       6.16   3530             2199.19   \n",
       "4       1.44        76.8       2.13  12200             5551.00   \n",
       "\n",
       "   health_per_capita  imports_per_capita  \n",
       "0            41.9174             248.297  \n",
       "1           267.8950            1987.740  \n",
       "2           185.9820            1400.440  \n",
       "3           100.6050            1514.370  \n",
       "4           735.6600            7185.800  "
      ]
     },
     "execution_count": 916,
     "metadata": {},
     "output_type": "execute_result"
    }
   ],
   "source": [
    "df.head()"
   ]
  },
  {
   "cell_type": "code",
   "execution_count": 917,
   "metadata": {},
   "outputs": [],
   "source": [
    "#creating copy of dataset\n",
    "df_copy=df.copy()"
   ]
  },
  {
   "cell_type": "markdown",
   "metadata": {},
   "source": [
    "### Data Preperation"
   ]
  },
  {
   "cell_type": "code",
   "execution_count": 918,
   "metadata": {},
   "outputs": [],
   "source": [
    "from sklearn.preprocessing import StandardScaler"
   ]
  },
  {
   "cell_type": "code",
   "execution_count": 919,
   "metadata": {},
   "outputs": [],
   "source": [
    "#droping repeated and unnecessary columns \n",
    "df.drop(['country','imports','health','exports'],axis=1,inplace=True)"
   ]
  },
  {
   "cell_type": "code",
   "execution_count": 920,
   "metadata": {},
   "outputs": [
    {
     "data": {
      "text/html": [
       "<div>\n",
       "<style scoped>\n",
       "    .dataframe tbody tr th:only-of-type {\n",
       "        vertical-align: middle;\n",
       "    }\n",
       "\n",
       "    .dataframe tbody tr th {\n",
       "        vertical-align: top;\n",
       "    }\n",
       "\n",
       "    .dataframe thead th {\n",
       "        text-align: right;\n",
       "    }\n",
       "</style>\n",
       "<table border=\"1\" class=\"dataframe\">\n",
       "  <thead>\n",
       "    <tr style=\"text-align: right;\">\n",
       "      <th></th>\n",
       "      <th>child_mort</th>\n",
       "      <th>income</th>\n",
       "      <th>inflation</th>\n",
       "      <th>life_expec</th>\n",
       "      <th>total_fer</th>\n",
       "      <th>gdpp</th>\n",
       "      <th>exports_per_capita</th>\n",
       "      <th>health_per_capita</th>\n",
       "      <th>imports_per_capita</th>\n",
       "    </tr>\n",
       "  </thead>\n",
       "  <tbody>\n",
       "    <tr>\n",
       "      <th>0</th>\n",
       "      <td>1.291532</td>\n",
       "      <td>-0.808245</td>\n",
       "      <td>0.157336</td>\n",
       "      <td>-1.619092</td>\n",
       "      <td>1.902882</td>\n",
       "      <td>-0.679180</td>\n",
       "      <td>-0.411011</td>\n",
       "      <td>-0.565040</td>\n",
       "      <td>-0.432276</td>\n",
       "    </tr>\n",
       "    <tr>\n",
       "      <th>1</th>\n",
       "      <td>-0.538949</td>\n",
       "      <td>-0.375369</td>\n",
       "      <td>-0.312347</td>\n",
       "      <td>0.647866</td>\n",
       "      <td>-0.859973</td>\n",
       "      <td>-0.485623</td>\n",
       "      <td>-0.350191</td>\n",
       "      <td>-0.439218</td>\n",
       "      <td>-0.313677</td>\n",
       "    </tr>\n",
       "    <tr>\n",
       "      <th>2</th>\n",
       "      <td>-0.272833</td>\n",
       "      <td>-0.220844</td>\n",
       "      <td>0.789274</td>\n",
       "      <td>0.670423</td>\n",
       "      <td>-0.038404</td>\n",
       "      <td>-0.465376</td>\n",
       "      <td>-0.318526</td>\n",
       "      <td>-0.484826</td>\n",
       "      <td>-0.353720</td>\n",
       "    </tr>\n",
       "    <tr>\n",
       "      <th>3</th>\n",
       "      <td>2.007808</td>\n",
       "      <td>-0.585043</td>\n",
       "      <td>1.387054</td>\n",
       "      <td>-1.179234</td>\n",
       "      <td>2.128151</td>\n",
       "      <td>-0.516268</td>\n",
       "      <td>-0.291375</td>\n",
       "      <td>-0.532363</td>\n",
       "      <td>-0.345953</td>\n",
       "    </tr>\n",
       "    <tr>\n",
       "      <th>4</th>\n",
       "      <td>-0.695634</td>\n",
       "      <td>0.101732</td>\n",
       "      <td>-0.601749</td>\n",
       "      <td>0.704258</td>\n",
       "      <td>-0.541946</td>\n",
       "      <td>-0.041817</td>\n",
       "      <td>-0.104331</td>\n",
       "      <td>-0.178771</td>\n",
       "      <td>0.040735</td>\n",
       "    </tr>\n",
       "  </tbody>\n",
       "</table>\n",
       "</div>"
      ],
      "text/plain": [
       "   child_mort    income  inflation  life_expec  total_fer      gdpp  \\\n",
       "0    1.291532 -0.808245   0.157336   -1.619092   1.902882 -0.679180   \n",
       "1   -0.538949 -0.375369  -0.312347    0.647866  -0.859973 -0.485623   \n",
       "2   -0.272833 -0.220844   0.789274    0.670423  -0.038404 -0.465376   \n",
       "3    2.007808 -0.585043   1.387054   -1.179234   2.128151 -0.516268   \n",
       "4   -0.695634  0.101732  -0.601749    0.704258  -0.541946 -0.041817   \n",
       "\n",
       "   exports_per_capita  health_per_capita  imports_per_capita  \n",
       "0           -0.411011          -0.565040           -0.432276  \n",
       "1           -0.350191          -0.439218           -0.313677  \n",
       "2           -0.318526          -0.484826           -0.353720  \n",
       "3           -0.291375          -0.532363           -0.345953  \n",
       "4           -0.104331          -0.178771            0.040735  "
      ]
     },
     "execution_count": 920,
     "metadata": {},
     "output_type": "execute_result"
    }
   ],
   "source": [
    "#scaling the dataset using Standard Scaler because pca assumes data to be centralised i.e. mean=0\n",
    "scaler=StandardScaler()\n",
    "cols=df.columns\n",
    "df[cols]=scaler.fit_transform(df)\n",
    "df.head()"
   ]
  },
  {
   "cell_type": "code",
   "execution_count": 921,
   "metadata": {},
   "outputs": [
    {
     "data": {
      "text/html": [
       "<div>\n",
       "<style scoped>\n",
       "    .dataframe tbody tr th:only-of-type {\n",
       "        vertical-align: middle;\n",
       "    }\n",
       "\n",
       "    .dataframe tbody tr th {\n",
       "        vertical-align: top;\n",
       "    }\n",
       "\n",
       "    .dataframe thead th {\n",
       "        text-align: right;\n",
       "    }\n",
       "</style>\n",
       "<table border=\"1\" class=\"dataframe\">\n",
       "  <thead>\n",
       "    <tr style=\"text-align: right;\">\n",
       "      <th></th>\n",
       "      <th>child_mort</th>\n",
       "      <th>income</th>\n",
       "      <th>inflation</th>\n",
       "      <th>life_expec</th>\n",
       "      <th>total_fer</th>\n",
       "      <th>gdpp</th>\n",
       "      <th>exports_per_capita</th>\n",
       "      <th>health_per_capita</th>\n",
       "      <th>imports_per_capita</th>\n",
       "    </tr>\n",
       "  </thead>\n",
       "  <tbody>\n",
       "    <tr>\n",
       "      <th>count</th>\n",
       "      <td>1.670000e+02</td>\n",
       "      <td>1.670000e+02</td>\n",
       "      <td>1.670000e+02</td>\n",
       "      <td>1.670000e+02</td>\n",
       "      <td>1.670000e+02</td>\n",
       "      <td>1.670000e+02</td>\n",
       "      <td>1.670000e+02</td>\n",
       "      <td>1.670000e+02</td>\n",
       "      <td>1.670000e+02</td>\n",
       "    </tr>\n",
       "    <tr>\n",
       "      <th>mean</th>\n",
       "      <td>-2.659217e-17</td>\n",
       "      <td>-7.512288e-17</td>\n",
       "      <td>8.376533e-17</td>\n",
       "      <td>3.616535e-16</td>\n",
       "      <td>3.124580e-16</td>\n",
       "      <td>2.127373e-17</td>\n",
       "      <td>9.174298e-17</td>\n",
       "      <td>-2.260334e-17</td>\n",
       "      <td>3.589943e-17</td>\n",
       "    </tr>\n",
       "    <tr>\n",
       "      <th>std</th>\n",
       "      <td>1.003008e+00</td>\n",
       "      <td>1.003008e+00</td>\n",
       "      <td>1.003008e+00</td>\n",
       "      <td>1.003008e+00</td>\n",
       "      <td>1.003008e+00</td>\n",
       "      <td>1.003008e+00</td>\n",
       "      <td>1.003008e+00</td>\n",
       "      <td>1.003008e+00</td>\n",
       "      <td>1.003008e+00</td>\n",
       "    </tr>\n",
       "    <tr>\n",
       "      <th>min</th>\n",
       "      <td>-8.871383e-01</td>\n",
       "      <td>-8.603259e-01</td>\n",
       "      <td>-1.137852e+00</td>\n",
       "      <td>-4.337186e+00</td>\n",
       "      <td>-1.191250e+00</td>\n",
       "      <td>-6.968005e-01</td>\n",
       "      <td>-4.140371e-01</td>\n",
       "      <td>-5.812404e-01</td>\n",
       "      <td>-4.491604e-01</td>\n",
       "    </tr>\n",
       "    <tr>\n",
       "      <th>25%</th>\n",
       "      <td>-7.466190e-01</td>\n",
       "      <td>-7.174558e-01</td>\n",
       "      <td>-5.666409e-01</td>\n",
       "      <td>-5.927576e-01</td>\n",
       "      <td>-7.639023e-01</td>\n",
       "      <td>-6.366596e-01</td>\n",
       "      <td>-3.891452e-01</td>\n",
       "      <td>-5.446513e-01</td>\n",
       "      <td>-4.055539e-01</td>\n",
       "    </tr>\n",
       "    <tr>\n",
       "      <th>50%</th>\n",
       "      <td>-4.717981e-01</td>\n",
       "      <td>-3.738080e-01</td>\n",
       "      <td>-2.269504e-01</td>\n",
       "      <td>2.869576e-01</td>\n",
       "      <td>-3.564309e-01</td>\n",
       "      <td>-4.544309e-01</td>\n",
       "      <td>-3.149097e-01</td>\n",
       "      <td>-4.091560e-01</td>\n",
       "      <td>-3.097338e-01</td>\n",
       "    </tr>\n",
       "    <tr>\n",
       "      <th>75%</th>\n",
       "      <td>5.926666e-01</td>\n",
       "      <td>2.942370e-01</td>\n",
       "      <td>2.816364e-01</td>\n",
       "      <td>7.042584e-01</td>\n",
       "      <td>6.175252e-01</td>\n",
       "      <td>5.942100e-02</td>\n",
       "      <td>-7.958645e-03</td>\n",
       "      <td>-4.442811e-02</td>\n",
       "      <td>7.713036e-02</td>\n",
       "    </tr>\n",
       "    <tr>\n",
       "      <th>max</th>\n",
       "      <td>4.221297e+00</td>\n",
       "      <td>5.611542e+00</td>\n",
       "      <td>9.129718e+00</td>\n",
       "      <td>1.380962e+00</td>\n",
       "      <td>3.009349e+00</td>\n",
       "      <td>5.036507e+00</td>\n",
       "      <td>9.839814e+00</td>\n",
       "      <td>4.235432e+00</td>\n",
       "      <td>9.716681e+00</td>\n",
       "    </tr>\n",
       "  </tbody>\n",
       "</table>\n",
       "</div>"
      ],
      "text/plain": [
       "         child_mort        income     inflation    life_expec     total_fer  \\\n",
       "count  1.670000e+02  1.670000e+02  1.670000e+02  1.670000e+02  1.670000e+02   \n",
       "mean  -2.659217e-17 -7.512288e-17  8.376533e-17  3.616535e-16  3.124580e-16   \n",
       "std    1.003008e+00  1.003008e+00  1.003008e+00  1.003008e+00  1.003008e+00   \n",
       "min   -8.871383e-01 -8.603259e-01 -1.137852e+00 -4.337186e+00 -1.191250e+00   \n",
       "25%   -7.466190e-01 -7.174558e-01 -5.666409e-01 -5.927576e-01 -7.639023e-01   \n",
       "50%   -4.717981e-01 -3.738080e-01 -2.269504e-01  2.869576e-01 -3.564309e-01   \n",
       "75%    5.926666e-01  2.942370e-01  2.816364e-01  7.042584e-01  6.175252e-01   \n",
       "max    4.221297e+00  5.611542e+00  9.129718e+00  1.380962e+00  3.009349e+00   \n",
       "\n",
       "               gdpp  exports_per_capita  health_per_capita  imports_per_capita  \n",
       "count  1.670000e+02        1.670000e+02       1.670000e+02        1.670000e+02  \n",
       "mean   2.127373e-17        9.174298e-17      -2.260334e-17        3.589943e-17  \n",
       "std    1.003008e+00        1.003008e+00       1.003008e+00        1.003008e+00  \n",
       "min   -6.968005e-01       -4.140371e-01      -5.812404e-01       -4.491604e-01  \n",
       "25%   -6.366596e-01       -3.891452e-01      -5.446513e-01       -4.055539e-01  \n",
       "50%   -4.544309e-01       -3.149097e-01      -4.091560e-01       -3.097338e-01  \n",
       "75%    5.942100e-02       -7.958645e-03      -4.442811e-02        7.713036e-02  \n",
       "max    5.036507e+00        9.839814e+00       4.235432e+00        9.716681e+00  "
      ]
     },
     "execution_count": 921,
     "metadata": {},
     "output_type": "execute_result"
    }
   ],
   "source": [
    "df.describe()\n",
    "#all the variables are standardised with mean=0 and std=1"
   ]
  },
  {
   "cell_type": "markdown",
   "metadata": {},
   "source": [
    "### Performing PCA "
   ]
  },
  {
   "cell_type": "code",
   "execution_count": 922,
   "metadata": {},
   "outputs": [],
   "source": [
    "from sklearn.decomposition import PCA"
   ]
  },
  {
   "cell_type": "code",
   "execution_count": 923,
   "metadata": {},
   "outputs": [],
   "source": [
    "#applying PCA\n",
    "pca=PCA(svd_solver='randomized',random_state=42)"
   ]
  },
  {
   "cell_type": "code",
   "execution_count": 924,
   "metadata": {},
   "outputs": [
    {
     "data": {
      "text/plain": [
       "PCA(copy=True, iterated_power='auto', n_components=None, random_state=42,\n",
       "  svd_solver='randomized', tol=0.0, whiten=False)"
      ]
     },
     "execution_count": 924,
     "metadata": {},
     "output_type": "execute_result"
    }
   ],
   "source": [
    "#training the model\n",
    "pca.fit(df)"
   ]
  },
  {
   "cell_type": "code",
   "execution_count": 925,
   "metadata": {},
   "outputs": [
    {
     "data": {
      "text/html": [
       "<div>\n",
       "<style scoped>\n",
       "    .dataframe tbody tr th:only-of-type {\n",
       "        vertical-align: middle;\n",
       "    }\n",
       "\n",
       "    .dataframe tbody tr th {\n",
       "        vertical-align: top;\n",
       "    }\n",
       "\n",
       "    .dataframe thead th {\n",
       "        text-align: right;\n",
       "    }\n",
       "</style>\n",
       "<table border=\"1\" class=\"dataframe\">\n",
       "  <thead>\n",
       "    <tr style=\"text-align: right;\">\n",
       "      <th></th>\n",
       "      <th>0</th>\n",
       "      <th>1</th>\n",
       "      <th>2</th>\n",
       "      <th>3</th>\n",
       "      <th>4</th>\n",
       "      <th>5</th>\n",
       "      <th>6</th>\n",
       "      <th>7</th>\n",
       "      <th>8</th>\n",
       "    </tr>\n",
       "  </thead>\n",
       "  <tbody>\n",
       "    <tr>\n",
       "      <th>0</th>\n",
       "      <td>-0.316392</td>\n",
       "      <td>0.380041</td>\n",
       "      <td>-0.143085</td>\n",
       "      <td>0.343857</td>\n",
       "      <td>-0.302842</td>\n",
       "      <td>0.399988</td>\n",
       "      <td>0.342887</td>\n",
       "      <td>0.358535</td>\n",
       "      <td>0.344865</td>\n",
       "    </tr>\n",
       "    <tr>\n",
       "      <th>1</th>\n",
       "      <td>0.476267</td>\n",
       "      <td>0.128384</td>\n",
       "      <td>0.221261</td>\n",
       "      <td>-0.369820</td>\n",
       "      <td>0.459715</td>\n",
       "      <td>0.200624</td>\n",
       "      <td>0.397311</td>\n",
       "      <td>0.155053</td>\n",
       "      <td>0.370781</td>\n",
       "    </tr>\n",
       "    <tr>\n",
       "      <th>2</th>\n",
       "      <td>-0.150012</td>\n",
       "      <td>0.145764</td>\n",
       "      <td>0.948419</td>\n",
       "      <td>0.196752</td>\n",
       "      <td>-0.077834</td>\n",
       "      <td>0.010339</td>\n",
       "      <td>-0.030574</td>\n",
       "      <td>-0.075703</td>\n",
       "      <td>-0.072174</td>\n",
       "    </tr>\n",
       "    <tr>\n",
       "      <th>3</th>\n",
       "      <td>-0.148052</td>\n",
       "      <td>-0.154806</td>\n",
       "      <td>-0.007628</td>\n",
       "      <td>-0.018395</td>\n",
       "      <td>-0.213928</td>\n",
       "      <td>-0.364772</td>\n",
       "      <td>0.449425</td>\n",
       "      <td>-0.599712</td>\n",
       "      <td>0.461798</td>\n",
       "    </tr>\n",
       "    <tr>\n",
       "      <th>4</th>\n",
       "      <td>0.101995</td>\n",
       "      <td>0.794075</td>\n",
       "      <td>-0.136423</td>\n",
       "      <td>-0.154041</td>\n",
       "      <td>-0.020336</td>\n",
       "      <td>0.087501</td>\n",
       "      <td>-0.038538</td>\n",
       "      <td>-0.493200</td>\n",
       "      <td>-0.252787</td>\n",
       "    </tr>\n",
       "    <tr>\n",
       "      <th>5</th>\n",
       "      <td>0.196585</td>\n",
       "      <td>-0.038147</td>\n",
       "      <td>0.108403</td>\n",
       "      <td>-0.586010</td>\n",
       "      <td>-0.753901</td>\n",
       "      <td>0.045382</td>\n",
       "      <td>-0.038911</td>\n",
       "      <td>0.180699</td>\n",
       "      <td>-0.012180</td>\n",
       "    </tr>\n",
       "    <tr>\n",
       "      <th>6</th>\n",
       "      <td>0.761267</td>\n",
       "      <td>-0.023113</td>\n",
       "      <td>-0.022077</td>\n",
       "      <td>0.581208</td>\n",
       "      <td>-0.273145</td>\n",
       "      <td>-0.044023</td>\n",
       "      <td>-0.013670</td>\n",
       "      <td>-0.064616</td>\n",
       "      <td>0.027182</td>\n",
       "    </tr>\n",
       "    <tr>\n",
       "      <th>7</th>\n",
       "      <td>0.006444</td>\n",
       "      <td>0.393811</td>\n",
       "      <td>-0.006070</td>\n",
       "      <td>0.002966</td>\n",
       "      <td>0.034293</td>\n",
       "      <td>-0.799022</td>\n",
       "      <td>-0.055264</td>\n",
       "      <td>0.430072</td>\n",
       "      <td>0.131135</td>\n",
       "    </tr>\n",
       "    <tr>\n",
       "      <th>8</th>\n",
       "      <td>-0.004951</td>\n",
       "      <td>0.079011</td>\n",
       "      <td>0.011281</td>\n",
       "      <td>-0.031594</td>\n",
       "      <td>0.023682</td>\n",
       "      <td>0.128464</td>\n",
       "      <td>-0.717924</td>\n",
       "      <td>-0.130346</td>\n",
       "      <td>0.665687</td>\n",
       "    </tr>\n",
       "  </tbody>\n",
       "</table>\n",
       "</div>"
      ],
      "text/plain": [
       "          0         1         2         3         4         5         6  \\\n",
       "0 -0.316392  0.380041 -0.143085  0.343857 -0.302842  0.399988  0.342887   \n",
       "1  0.476267  0.128384  0.221261 -0.369820  0.459715  0.200624  0.397311   \n",
       "2 -0.150012  0.145764  0.948419  0.196752 -0.077834  0.010339 -0.030574   \n",
       "3 -0.148052 -0.154806 -0.007628 -0.018395 -0.213928 -0.364772  0.449425   \n",
       "4  0.101995  0.794075 -0.136423 -0.154041 -0.020336  0.087501 -0.038538   \n",
       "5  0.196585 -0.038147  0.108403 -0.586010 -0.753901  0.045382 -0.038911   \n",
       "6  0.761267 -0.023113 -0.022077  0.581208 -0.273145 -0.044023 -0.013670   \n",
       "7  0.006444  0.393811 -0.006070  0.002966  0.034293 -0.799022 -0.055264   \n",
       "8 -0.004951  0.079011  0.011281 -0.031594  0.023682  0.128464 -0.717924   \n",
       "\n",
       "          7         8  \n",
       "0  0.358535  0.344865  \n",
       "1  0.155053  0.370781  \n",
       "2 -0.075703 -0.072174  \n",
       "3 -0.599712  0.461798  \n",
       "4 -0.493200 -0.252787  \n",
       "5  0.180699 -0.012180  \n",
       "6 -0.064616  0.027182  \n",
       "7  0.430072  0.131135  \n",
       "8 -0.130346  0.665687  "
      ]
     },
     "execution_count": 925,
     "metadata": {},
     "output_type": "execute_result"
    }
   ],
   "source": [
    "#components of PCA nothing but eigeon vectors\n",
    "pd.DataFrame(pca.components_)"
   ]
  },
  {
   "cell_type": "code",
   "execution_count": 926,
   "metadata": {},
   "outputs": [],
   "source": [
    "import matplotlib.pyplot as plt"
   ]
  },
  {
   "cell_type": "code",
   "execution_count": 927,
   "metadata": {},
   "outputs": [
    {
     "data": {
      "text/plain": [
       "Text(0,0.5,'cumulative variance explained')"
      ]
     },
     "execution_count": 927,
     "metadata": {},
     "output_type": "execute_result"
    },
    {
     "data": {
      "image/png": "[encoded data removed]",
      "text/plain": [
       "<Figure size 720x576 with 1 Axes>"
      ]
     },
     "metadata": {},
     "output_type": "display_data"
    }
   ],
   "source": [
    "#scree plot \n",
    "plt.figure(figsize=[10,8])\n",
    "plt.plot(np.cumsum(pca.explained_variance_ratio_))\n",
    "plt.xlabel(\"PCA's\")\n",
    "plt.ylabel(\"cumulative variance explained\")"
   ]
  },
  {
   "cell_type": "markdown",
   "metadata": {},
   "source": [
    "- by observing above Scree plot if we choose 5 as number of components we get around 0.96 variance which is preety good and after that it does increase much "
   ]
  },
  {
   "cell_type": "code",
   "execution_count": 928,
   "metadata": {},
   "outputs": [
    {
     "data": {
      "text/html": [
       "<div>\n",
       "<style scoped>\n",
       "    .dataframe tbody tr th:only-of-type {\n",
       "        vertical-align: middle;\n",
       "    }\n",
       "\n",
       "    .dataframe tbody tr th {\n",
       "        vertical-align: top;\n",
       "    }\n",
       "\n",
       "    .dataframe thead th {\n",
       "        text-align: right;\n",
       "    }\n",
       "</style>\n",
       "<table border=\"1\" class=\"dataframe\">\n",
       "  <thead>\n",
       "    <tr style=\"text-align: right;\">\n",
       "      <th></th>\n",
       "      <th>Original_Features</th>\n",
       "      <th>pc1</th>\n",
       "      <th>pc2</th>\n",
       "      <th>pc3</th>\n",
       "      <th>pc4</th>\n",
       "      <th>pc5</th>\n",
       "    </tr>\n",
       "  </thead>\n",
       "  <tbody>\n",
       "    <tr>\n",
       "      <th>0</th>\n",
       "      <td>child_mort</td>\n",
       "      <td>-0.316392</td>\n",
       "      <td>0.476267</td>\n",
       "      <td>-0.150012</td>\n",
       "      <td>-0.148052</td>\n",
       "      <td>0.101995</td>\n",
       "    </tr>\n",
       "    <tr>\n",
       "      <th>1</th>\n",
       "      <td>income</td>\n",
       "      <td>0.380041</td>\n",
       "      <td>0.128384</td>\n",
       "      <td>0.145764</td>\n",
       "      <td>-0.154806</td>\n",
       "      <td>0.794075</td>\n",
       "    </tr>\n",
       "    <tr>\n",
       "      <th>2</th>\n",
       "      <td>inflation</td>\n",
       "      <td>-0.143085</td>\n",
       "      <td>0.221261</td>\n",
       "      <td>0.948419</td>\n",
       "      <td>-0.007628</td>\n",
       "      <td>-0.136423</td>\n",
       "    </tr>\n",
       "    <tr>\n",
       "      <th>3</th>\n",
       "      <td>life_expec</td>\n",
       "      <td>0.343857</td>\n",
       "      <td>-0.369820</td>\n",
       "      <td>0.196752</td>\n",
       "      <td>-0.018395</td>\n",
       "      <td>-0.154041</td>\n",
       "    </tr>\n",
       "    <tr>\n",
       "      <th>4</th>\n",
       "      <td>total_fer</td>\n",
       "      <td>-0.302842</td>\n",
       "      <td>0.459715</td>\n",
       "      <td>-0.077834</td>\n",
       "      <td>-0.213928</td>\n",
       "      <td>-0.020336</td>\n",
       "    </tr>\n",
       "    <tr>\n",
       "      <th>5</th>\n",
       "      <td>gdpp</td>\n",
       "      <td>0.399988</td>\n",
       "      <td>0.200624</td>\n",
       "      <td>0.010339</td>\n",
       "      <td>-0.364772</td>\n",
       "      <td>0.087501</td>\n",
       "    </tr>\n",
       "    <tr>\n",
       "      <th>6</th>\n",
       "      <td>exports_per_capita</td>\n",
       "      <td>0.342887</td>\n",
       "      <td>0.397311</td>\n",
       "      <td>-0.030574</td>\n",
       "      <td>0.449425</td>\n",
       "      <td>-0.038538</td>\n",
       "    </tr>\n",
       "    <tr>\n",
       "      <th>7</th>\n",
       "      <td>health_per_capita</td>\n",
       "      <td>0.358535</td>\n",
       "      <td>0.155053</td>\n",
       "      <td>-0.075703</td>\n",
       "      <td>-0.599712</td>\n",
       "      <td>-0.493200</td>\n",
       "    </tr>\n",
       "    <tr>\n",
       "      <th>8</th>\n",
       "      <td>imports_per_capita</td>\n",
       "      <td>0.344865</td>\n",
       "      <td>0.370781</td>\n",
       "      <td>-0.072174</td>\n",
       "      <td>0.461798</td>\n",
       "      <td>-0.252787</td>\n",
       "    </tr>\n",
       "  </tbody>\n",
       "</table>\n",
       "</div>"
      ],
      "text/plain": [
       "    Original_Features       pc1       pc2       pc3       pc4       pc5\n",
       "0          child_mort -0.316392  0.476267 -0.150012 -0.148052  0.101995\n",
       "1              income  0.380041  0.128384  0.145764 -0.154806  0.794075\n",
       "2           inflation -0.143085  0.221261  0.948419 -0.007628 -0.136423\n",
       "3          life_expec  0.343857 -0.369820  0.196752 -0.018395 -0.154041\n",
       "4           total_fer -0.302842  0.459715 -0.077834 -0.213928 -0.020336\n",
       "5                gdpp  0.399988  0.200624  0.010339 -0.364772  0.087501\n",
       "6  exports_per_capita  0.342887  0.397311 -0.030574  0.449425 -0.038538\n",
       "7   health_per_capita  0.358535  0.155053 -0.075703 -0.599712 -0.493200\n",
       "8  imports_per_capita  0.344865  0.370781 -0.072174  0.461798 -0.252787"
      ]
     },
     "execution_count": 928,
     "metadata": {},
     "output_type": "execute_result"
    }
   ],
   "source": [
    "#Original features vs PCA's\n",
    "cols=df.columns\n",
    "pca_df=pd.DataFrame({'Original_Features':cols,'pc1':pca.components_[0],'pc2':pca.components_[1],'pc3':pca.components_[2],'pc4':pca.components_[3],'pc5':pca.components_[4]})\n",
    "pca_df"
   ]
  },
  {
   "cell_type": "code",
   "execution_count": 929,
   "metadata": {},
   "outputs": [],
   "source": [
    "import seaborn as sns"
   ]
  },
  {
   "cell_type": "code",
   "execution_count": 930,
   "metadata": {},
   "outputs": [
    {
     "data": {
      "text/plain": [
       "<matplotlib.axes._subplots.AxesSubplot at 0x1bdacd95780>"
      ]
     },
     "execution_count": 930,
     "metadata": {},
     "output_type": "execute_result"
    },
    {
     "data": {
      "image/png": "[encoded data removed]",
      "text/plain": [
       "<Figure size 576x432 with 2 Axes>"
      ]
     },
     "metadata": {},
     "output_type": "display_data"
    }
   ],
   "source": [
    "# Analysing the above in heat map\n",
    "plt.figure(figsize=[8,6])\n",
    "sns.heatmap(pca_df.set_index('Original_Features').T,annot=True)"
   ]
  },
  {
   "cell_type": "markdown",
   "metadata": {},
   "source": [
    "- Observations from heatmap\n",
    "  - theme1(pc1) explains all features except inflation\n",
    "  - theme2(pc2) explains child_mort,life_expect,total_fer,exports_percapita,imports_percapita\n",
    "  - theme3(pc3) expalins inflation\n",
    "  - theme4(pc4) explains gdpp,exports_percapita,imports_percapita,health_percapita\n",
    "  - theme5(pc5) explains income and health"
   ]
  },
  {
   "cell_type": "code",
   "execution_count": 931,
   "metadata": {},
   "outputs": [],
   "source": [
    "from sklearn.decomposition import IncrementalPCA"
   ]
  },
  {
   "cell_type": "code",
   "execution_count": 932,
   "metadata": {},
   "outputs": [],
   "source": [
    "#using incrementalPCA to get 5 pca's\n",
    "pca_df_final=IncrementalPCA(n_components=5).fit_transform(df)\n",
    "pca_df_final=pd.DataFrame(pca_df_final,columns=['pc1','pc2','pc3','pc4','pc5'])"
   ]
  },
  {
   "cell_type": "code",
   "execution_count": 933,
   "metadata": {},
   "outputs": [
    {
     "data": {
      "text/html": [
       "<div>\n",
       "<style scoped>\n",
       "    .dataframe tbody tr th:only-of-type {\n",
       "        vertical-align: middle;\n",
       "    }\n",
       "\n",
       "    .dataframe tbody tr th {\n",
       "        vertical-align: top;\n",
       "    }\n",
       "\n",
       "    .dataframe thead th {\n",
       "        text-align: right;\n",
       "    }\n",
       "</style>\n",
       "<table border=\"1\" class=\"dataframe\">\n",
       "  <thead>\n",
       "    <tr style=\"text-align: right;\">\n",
       "      <th></th>\n",
       "      <th>pc1</th>\n",
       "      <th>pc2</th>\n",
       "      <th>pc3</th>\n",
       "      <th>pc4</th>\n",
       "      <th>pc5</th>\n",
       "    </tr>\n",
       "  </thead>\n",
       "  <tbody>\n",
       "    <tr>\n",
       "      <th>0</th>\n",
       "      <td>-2.636338</td>\n",
       "      <td>1.472260</td>\n",
       "      <td>-0.548330</td>\n",
       "      <td>0.238302</td>\n",
       "      <td>0.061003</td>\n",
       "    </tr>\n",
       "    <tr>\n",
       "      <th>1</th>\n",
       "      <td>-0.023783</td>\n",
       "      <td>-1.435535</td>\n",
       "      <td>-0.015470</td>\n",
       "      <td>-0.428278</td>\n",
       "      <td>-0.154305</td>\n",
       "    </tr>\n",
       "    <tr>\n",
       "      <th>2</th>\n",
       "      <td>-0.459228</td>\n",
       "      <td>-0.679705</td>\n",
       "      <td>0.956537</td>\n",
       "      <td>-0.193531</td>\n",
       "      <td>-0.092128</td>\n",
       "    </tr>\n",
       "    <tr>\n",
       "      <th>3</th>\n",
       "      <td>-2.723472</td>\n",
       "      <td>2.174966</td>\n",
       "      <td>0.597397</td>\n",
       "      <td>0.417695</td>\n",
       "      <td>0.056694</td>\n",
       "    </tr>\n",
       "    <tr>\n",
       "      <th>4</th>\n",
       "      <td>0.649103</td>\n",
       "      <td>-1.026404</td>\n",
       "      <td>-0.258645</td>\n",
       "      <td>-0.276882</td>\n",
       "      <td>0.077087</td>\n",
       "    </tr>\n",
       "  </tbody>\n",
       "</table>\n",
       "</div>"
      ],
      "text/plain": [
       "        pc1       pc2       pc3       pc4       pc5\n",
       "0 -2.636338  1.472260 -0.548330  0.238302  0.061003\n",
       "1 -0.023783 -1.435535 -0.015470 -0.428278 -0.154305\n",
       "2 -0.459228 -0.679705  0.956537 -0.193531 -0.092128\n",
       "3 -2.723472  2.174966  0.597397  0.417695  0.056694\n",
       "4  0.649103 -1.026404 -0.258645 -0.276882  0.077087"
      ]
     },
     "execution_count": 933,
     "metadata": {},
     "output_type": "execute_result"
    }
   ],
   "source": [
    "pca_df_final.head()"
   ]
  },
  {
   "cell_type": "code",
   "execution_count": 934,
   "metadata": {},
   "outputs": [
    {
     "data": {
      "text/html": [
       "<div>\n",
       "<style scoped>\n",
       "    .dataframe tbody tr th:only-of-type {\n",
       "        vertical-align: middle;\n",
       "    }\n",
       "\n",
       "    .dataframe tbody tr th {\n",
       "        vertical-align: top;\n",
       "    }\n",
       "\n",
       "    .dataframe thead th {\n",
       "        text-align: right;\n",
       "    }\n",
       "</style>\n",
       "<table border=\"1\" class=\"dataframe\">\n",
       "  <thead>\n",
       "    <tr style=\"text-align: right;\">\n",
       "      <th></th>\n",
       "      <th>pc1</th>\n",
       "      <th>pc2</th>\n",
       "      <th>pc3</th>\n",
       "      <th>pc4</th>\n",
       "      <th>pc5</th>\n",
       "    </tr>\n",
       "  </thead>\n",
       "  <tbody>\n",
       "    <tr>\n",
       "      <th>count</th>\n",
       "      <td>1.670000e+02</td>\n",
       "      <td>1.670000e+02</td>\n",
       "      <td>1.670000e+02</td>\n",
       "      <td>1.670000e+02</td>\n",
       "      <td>1.670000e+02</td>\n",
       "    </tr>\n",
       "    <tr>\n",
       "      <th>mean</th>\n",
       "      <td>7.977650e-18</td>\n",
       "      <td>6.648042e-18</td>\n",
       "      <td>-9.141058e-18</td>\n",
       "      <td>-4.387708e-17</td>\n",
       "      <td>9.888963e-18</td>\n",
       "    </tr>\n",
       "    <tr>\n",
       "      <th>std</th>\n",
       "      <td>2.310043e+00</td>\n",
       "      <td>1.292227e+00</td>\n",
       "      <td>9.472998e-01</td>\n",
       "      <td>7.405031e-01</td>\n",
       "      <td>5.246024e-01</td>\n",
       "    </tr>\n",
       "    <tr>\n",
       "      <th>min</th>\n",
       "      <td>-3.939540e+00</td>\n",
       "      <td>-1.700102e+00</td>\n",
       "      <td>-1.747502e+00</td>\n",
       "      <td>-4.397469e+00</td>\n",
       "      <td>-1.816076e+00</td>\n",
       "    </tr>\n",
       "    <tr>\n",
       "      <th>25%</th>\n",
       "      <td>-1.447672e+00</td>\n",
       "      <td>-9.804050e-01</td>\n",
       "      <td>-4.010265e-01</td>\n",
       "      <td>-3.288881e-01</td>\n",
       "      <td>-1.671520e-01</td>\n",
       "    </tr>\n",
       "    <tr>\n",
       "      <th>50%</th>\n",
       "      <td>-3.575034e-01</td>\n",
       "      <td>-3.972925e-01</td>\n",
       "      <td>-1.730204e-01</td>\n",
       "      <td>-1.379197e-01</td>\n",
       "      <td>-5.690151e-02</td>\n",
       "    </tr>\n",
       "    <tr>\n",
       "      <th>75%</th>\n",
       "      <td>8.501392e-01</td>\n",
       "      <td>6.784352e-01</td>\n",
       "      <td>2.547401e-01</td>\n",
       "      <td>2.117017e-01</td>\n",
       "      <td>9.129827e-02</td>\n",
       "    </tr>\n",
       "    <tr>\n",
       "      <th>90%</th>\n",
       "      <td>2.977550e+00</td>\n",
       "      <td>1.589363e+00</td>\n",
       "      <td>9.272553e-01</td>\n",
       "      <td>7.370597e-01</td>\n",
       "      <td>2.287218e-01</td>\n",
       "    </tr>\n",
       "    <tr>\n",
       "      <th>95%</th>\n",
       "      <td>3.918047e+00</td>\n",
       "      <td>2.174060e+00</td>\n",
       "      <td>1.174755e+00</td>\n",
       "      <td>1.185077e+00</td>\n",
       "      <td>5.360638e-01</td>\n",
       "    </tr>\n",
       "    <tr>\n",
       "      <th>99%</th>\n",
       "      <td>6.374141e+00</td>\n",
       "      <td>3.310778e+00</td>\n",
       "      <td>3.094791e+00</td>\n",
       "      <td>2.065314e+00</td>\n",
       "      <td>2.249720e+00</td>\n",
       "    </tr>\n",
       "    <tr>\n",
       "      <th>max</th>\n",
       "      <td>1.263487e+01</td>\n",
       "      <td>8.223170e+00</td>\n",
       "      <td>7.928612e+00</td>\n",
       "      <td>3.291248e+00</td>\n",
       "      <td>4.252550e+00</td>\n",
       "    </tr>\n",
       "  </tbody>\n",
       "</table>\n",
       "</div>"
      ],
      "text/plain": [
       "                pc1           pc2           pc3           pc4           pc5\n",
       "count  1.670000e+02  1.670000e+02  1.670000e+02  1.670000e+02  1.670000e+02\n",
       "mean   7.977650e-18  6.648042e-18 -9.141058e-18 -4.387708e-17  9.888963e-18\n",
       "std    2.310043e+00  1.292227e+00  9.472998e-01  7.405031e-01  5.246024e-01\n",
       "min   -3.939540e+00 -1.700102e+00 -1.747502e+00 -4.397469e+00 -1.816076e+00\n",
       "25%   -1.447672e+00 -9.804050e-01 -4.010265e-01 -3.288881e-01 -1.671520e-01\n",
       "50%   -3.575034e-01 -3.972925e-01 -1.730204e-01 -1.379197e-01 -5.690151e-02\n",
       "75%    8.501392e-01  6.784352e-01  2.547401e-01  2.117017e-01  9.129827e-02\n",
       "90%    2.977550e+00  1.589363e+00  9.272553e-01  7.370597e-01  2.287218e-01\n",
       "95%    3.918047e+00  2.174060e+00  1.174755e+00  1.185077e+00  5.360638e-01\n",
       "99%    6.374141e+00  3.310778e+00  3.094791e+00  2.065314e+00  2.249720e+00\n",
       "max    1.263487e+01  8.223170e+00  7.928612e+00  3.291248e+00  4.252550e+00"
      ]
     },
     "execution_count": 934,
     "metadata": {},
     "output_type": "execute_result"
    }
   ],
   "source": [
    "pca_df_final.describe(percentiles=[0.25,0.5,0.75,0.90,0.95,0.99])"
   ]
  },
  {
   "cell_type": "markdown",
   "metadata": {},
   "source": [
    "- As we can see greater than 99 percentiles could be possible outliers "
   ]
  },
  {
   "cell_type": "code",
   "execution_count": 935,
   "metadata": {},
   "outputs": [
    {
     "data": {
      "text/plain": [
       "<matplotlib.axes._subplots.AxesSubplot at 0x1bdab121860>"
      ]
     },
     "execution_count": 935,
     "metadata": {},
     "output_type": "execute_result"
    },
    {
     "data": {
      "image/png": "[encoded data removed]",
      "text/plain": [
       "<Figure size 576x432 with 1 Axes>"
      ]
     },
     "metadata": {},
     "output_type": "display_data"
    }
   ],
   "source": [
    "#visualising outliers\n",
    "plt.figure(figsize=[8,6])\n",
    "temp=pca_df_final.melt(var_name='PCAs',value_name='datapoints') #preparing the data to plot box plot all PCA's at once\n",
    "sns.boxplot(x='PCAs',y='datapoints',data=temp,whis=[0,99])"
   ]
  },
  {
   "cell_type": "markdown",
   "metadata": {},
   "source": [
    "- We are not sure whether they are outliers or not so continuing without removing anything"
   ]
  },
  {
   "cell_type": "code",
   "execution_count": 936,
   "metadata": {},
   "outputs": [],
   "source": [
    "#creating copy of dataframe\n",
    "pca_df_final_copy=pca_df_final.copy()"
   ]
  },
  {
   "cell_type": "markdown",
   "metadata": {},
   "source": [
    "### Clustering"
   ]
  },
  {
   "cell_type": "code",
   "execution_count": 937,
   "metadata": {},
   "outputs": [],
   "source": [
    "#Calculating the Hopkins statistic\n",
    "from sklearn.neighbors import NearestNeighbors\n",
    "from random import sample\n",
    "from numpy.random import uniform\n",
    "import numpy as np\n",
    "from math import isnan\n",
    " \n",
    "def hopkins(X):\n",
    "    d = X.shape[1]\n",
    "    #d = len(vars) # columns\n",
    "    n = len(X) # rows\n",
    "    m = int(0.1 * n) \n",
    "    nbrs = NearestNeighbors(n_neighbors=1).fit(X.values)\n",
    " \n",
    "    rand_X = sample(range(0, n, 1), m)\n",
    " \n",
    "    ujd = []\n",
    "    wjd = []\n",
    "    for j in range(0, m):\n",
    "        u_dist, _ = nbrs.kneighbors(uniform(np.amin(X,axis=0),np.amax(X,axis=0),d).reshape(1, -1), 2, return_distance=True)\n",
    "        ujd.append(u_dist[0][1])\n",
    "        w_dist, _ = nbrs.kneighbors(X.iloc[rand_X[j]].values.reshape(1, -1), 2, return_distance=True)\n",
    "        wjd.append(w_dist[0][1])\n",
    " \n",
    "    H = sum(ujd) / (sum(ujd) + sum(wjd))\n",
    "    if isnan(H):\n",
    "        print(ujd, wjd)\n",
    "        H = 0\n",
    " \n",
    "    return H"
   ]
  },
  {
   "cell_type": "code",
   "execution_count": 938,
   "metadata": {},
   "outputs": [
    {
     "data": {
      "text/plain": [
       "0.9428017706153066"
      ]
     },
     "execution_count": 938,
     "metadata": {},
     "output_type": "execute_result"
    }
   ],
   "source": [
    "hopkins(pca_df_final)\n",
    "#since the value is >0.5 so there is high tendency to form cluster"
   ]
  },
  {
   "cell_type": "code",
   "execution_count": 939,
   "metadata": {},
   "outputs": [],
   "source": [
    "#1st trying hierarchical clustering to get an idea of how much k we can select and later we can try k-means using the k we got from heirachical clusttering \n",
    "from scipy.cluster.hierarchy import linkage\n",
    "from scipy.cluster.hierarchy import cut_tree\n",
    "from scipy.cluster.hierarchy import dendrogram"
   ]
  },
  {
   "cell_type": "code",
   "execution_count": 940,
   "metadata": {},
   "outputs": [],
   "source": [
    "# performing heirarchial clustering\n",
    "mergings=linkage(pca_df_final,method='complete')"
   ]
  },
  {
   "cell_type": "code",
   "execution_count": 941,
   "metadata": {},
   "outputs": [
    {
     "data": {
      "image/png": "[encoded data removed]",
      "text/plain": [
       "<Figure size 576x432 with 1 Axes>"
      ]
     },
     "metadata": {},
     "output_type": "display_data"
    }
   ],
   "source": [
    "plt.figure(figsize=[8,6])\n",
    "dendrogram(mergings)\n",
    "plt.show()"
   ]
  },
  {
   "cell_type": "markdown",
   "metadata": {},
   "source": [
    "- Observations from above dendogram \n",
    "     - if choose 4 clusters the distance between clusters is significant and also we will good number of clusters\n",
    "     - and also we need to check for good number of population within each clusters because if only few countries stay wthin cluster then it becomes difficult for CEO to take seperate decision for only those few countries\n",
    "     - if we choose 6 clusters some clusters will be having very less populated so going with 4"
   ]
  },
  {
   "cell_type": "code",
   "execution_count": 942,
   "metadata": {},
   "outputs": [],
   "source": [
    "#getting the cluster labels by choosing number of clusters\n",
    "cluster_labels=cut_tree(mergings,n_clusters=4)\n"
   ]
  },
  {
   "cell_type": "code",
   "execution_count": 943,
   "metadata": {},
   "outputs": [
    {
     "data": {
      "text/html": [
       "<div>\n",
       "<style scoped>\n",
       "    .dataframe tbody tr th:only-of-type {\n",
       "        vertical-align: middle;\n",
       "    }\n",
       "\n",
       "    .dataframe tbody tr th {\n",
       "        vertical-align: top;\n",
       "    }\n",
       "\n",
       "    .dataframe thead th {\n",
       "        text-align: right;\n",
       "    }\n",
       "</style>\n",
       "<table border=\"1\" class=\"dataframe\">\n",
       "  <thead>\n",
       "    <tr style=\"text-align: right;\">\n",
       "      <th></th>\n",
       "      <th>pc1</th>\n",
       "      <th>pc2</th>\n",
       "      <th>pc3</th>\n",
       "      <th>pc4</th>\n",
       "      <th>pc5</th>\n",
       "      <th>country</th>\n",
       "    </tr>\n",
       "  </thead>\n",
       "  <tbody>\n",
       "    <tr>\n",
       "      <th>0</th>\n",
       "      <td>-2.636338</td>\n",
       "      <td>1.472260</td>\n",
       "      <td>-0.548330</td>\n",
       "      <td>0.238302</td>\n",
       "      <td>0.061003</td>\n",
       "      <td>Afghanistan</td>\n",
       "    </tr>\n",
       "    <tr>\n",
       "      <th>1</th>\n",
       "      <td>-0.023783</td>\n",
       "      <td>-1.435535</td>\n",
       "      <td>-0.015470</td>\n",
       "      <td>-0.428278</td>\n",
       "      <td>-0.154305</td>\n",
       "      <td>Albania</td>\n",
       "    </tr>\n",
       "    <tr>\n",
       "      <th>2</th>\n",
       "      <td>-0.459228</td>\n",
       "      <td>-0.679705</td>\n",
       "      <td>0.956537</td>\n",
       "      <td>-0.193531</td>\n",
       "      <td>-0.092128</td>\n",
       "      <td>Algeria</td>\n",
       "    </tr>\n",
       "    <tr>\n",
       "      <th>3</th>\n",
       "      <td>-2.723472</td>\n",
       "      <td>2.174966</td>\n",
       "      <td>0.597397</td>\n",
       "      <td>0.417695</td>\n",
       "      <td>0.056694</td>\n",
       "      <td>Angola</td>\n",
       "    </tr>\n",
       "    <tr>\n",
       "      <th>4</th>\n",
       "      <td>0.649103</td>\n",
       "      <td>-1.026404</td>\n",
       "      <td>-0.258645</td>\n",
       "      <td>-0.276882</td>\n",
       "      <td>0.077087</td>\n",
       "      <td>Antigua and Barbuda</td>\n",
       "    </tr>\n",
       "  </tbody>\n",
       "</table>\n",
       "</div>"
      ],
      "text/plain": [
       "        pc1       pc2       pc3       pc4       pc5              country\n",
       "0 -2.636338  1.472260 -0.548330  0.238302  0.061003          Afghanistan\n",
       "1 -0.023783 -1.435535 -0.015470 -0.428278 -0.154305              Albania\n",
       "2 -0.459228 -0.679705  0.956537 -0.193531 -0.092128              Algeria\n",
       "3 -2.723472  2.174966  0.597397  0.417695  0.056694               Angola\n",
       "4  0.649103 -1.026404 -0.258645 -0.276882  0.077087  Antigua and Barbuda"
      ]
     },
     "execution_count": 943,
     "metadata": {},
     "output_type": "execute_result"
    }
   ],
   "source": [
    "#merging country column to pca dataframe\n",
    "pca_df_final['country']=df_copy['country'] \n",
    "pca_df_final.head()"
   ]
  },
  {
   "cell_type": "code",
   "execution_count": 944,
   "metadata": {},
   "outputs": [
    {
     "data": {
      "text/html": [
       "<div>\n",
       "<style scoped>\n",
       "    .dataframe tbody tr th:only-of-type {\n",
       "        vertical-align: middle;\n",
       "    }\n",
       "\n",
       "    .dataframe tbody tr th {\n",
       "        vertical-align: top;\n",
       "    }\n",
       "\n",
       "    .dataframe thead th {\n",
       "        text-align: right;\n",
       "    }\n",
       "</style>\n",
       "<table border=\"1\" class=\"dataframe\">\n",
       "  <thead>\n",
       "    <tr style=\"text-align: right;\">\n",
       "      <th></th>\n",
       "      <th>pc1</th>\n",
       "      <th>pc2</th>\n",
       "      <th>pc3</th>\n",
       "      <th>pc4</th>\n",
       "      <th>pc5</th>\n",
       "      <th>country</th>\n",
       "      <th>clusters</th>\n",
       "    </tr>\n",
       "  </thead>\n",
       "  <tbody>\n",
       "    <tr>\n",
       "      <th>0</th>\n",
       "      <td>-2.636338</td>\n",
       "      <td>1.472260</td>\n",
       "      <td>-0.548330</td>\n",
       "      <td>0.238302</td>\n",
       "      <td>0.061003</td>\n",
       "      <td>Afghanistan</td>\n",
       "      <td>0</td>\n",
       "    </tr>\n",
       "    <tr>\n",
       "      <th>1</th>\n",
       "      <td>-0.023783</td>\n",
       "      <td>-1.435535</td>\n",
       "      <td>-0.015470</td>\n",
       "      <td>-0.428278</td>\n",
       "      <td>-0.154305</td>\n",
       "      <td>Albania</td>\n",
       "      <td>0</td>\n",
       "    </tr>\n",
       "    <tr>\n",
       "      <th>2</th>\n",
       "      <td>-0.459228</td>\n",
       "      <td>-0.679705</td>\n",
       "      <td>0.956537</td>\n",
       "      <td>-0.193531</td>\n",
       "      <td>-0.092128</td>\n",
       "      <td>Algeria</td>\n",
       "      <td>0</td>\n",
       "    </tr>\n",
       "    <tr>\n",
       "      <th>3</th>\n",
       "      <td>-2.723472</td>\n",
       "      <td>2.174966</td>\n",
       "      <td>0.597397</td>\n",
       "      <td>0.417695</td>\n",
       "      <td>0.056694</td>\n",
       "      <td>Angola</td>\n",
       "      <td>0</td>\n",
       "    </tr>\n",
       "    <tr>\n",
       "      <th>4</th>\n",
       "      <td>0.649103</td>\n",
       "      <td>-1.026404</td>\n",
       "      <td>-0.258645</td>\n",
       "      <td>-0.276882</td>\n",
       "      <td>0.077087</td>\n",
       "      <td>Antigua and Barbuda</td>\n",
       "      <td>0</td>\n",
       "    </tr>\n",
       "  </tbody>\n",
       "</table>\n",
       "</div>"
      ],
      "text/plain": [
       "        pc1       pc2       pc3       pc4       pc5              country  \\\n",
       "0 -2.636338  1.472260 -0.548330  0.238302  0.061003          Afghanistan   \n",
       "1 -0.023783 -1.435535 -0.015470 -0.428278 -0.154305              Albania   \n",
       "2 -0.459228 -0.679705  0.956537 -0.193531 -0.092128              Algeria   \n",
       "3 -2.723472  2.174966  0.597397  0.417695  0.056694               Angola   \n",
       "4  0.649103 -1.026404 -0.258645 -0.276882  0.077087  Antigua and Barbuda   \n",
       "\n",
       "   clusters  \n",
       "0         0  \n",
       "1         0  \n",
       "2         0  \n",
       "3         0  \n",
       "4         0  "
      ]
     },
     "execution_count": 944,
     "metadata": {},
     "output_type": "execute_result"
    }
   ],
   "source": [
    "#merging clusters column to pca dataframe\n",
    "pca_df_final['clusters']=cluster_labels\n",
    "pca_df_final.head()"
   ]
  },
  {
   "cell_type": "code",
   "execution_count": 945,
   "metadata": {},
   "outputs": [
    {
     "data": {
      "text/plain": [
       "0    144\n",
       "1     21\n",
       "3      1\n",
       "2      1\n",
       "Name: clusters, dtype: int64"
      ]
     },
     "execution_count": 945,
     "metadata": {},
     "output_type": "execute_result"
    }
   ],
   "source": [
    "#observing the population of clusters\n",
    "pca_df_final['clusters'].value_counts()"
   ]
  },
  {
   "cell_type": "markdown",
   "metadata": {},
   "source": [
    "- we can see that cluster 2 and 3 contains very less population so we can ignore those and analyse them seperately"
   ]
  },
  {
   "cell_type": "code",
   "execution_count": 946,
   "metadata": {},
   "outputs": [
    {
     "data": {
      "text/html": [
       "<div>\n",
       "<style scoped>\n",
       "    .dataframe tbody tr th:only-of-type {\n",
       "        vertical-align: middle;\n",
       "    }\n",
       "\n",
       "    .dataframe tbody tr th {\n",
       "        vertical-align: top;\n",
       "    }\n",
       "\n",
       "    .dataframe thead th {\n",
       "        text-align: right;\n",
       "    }\n",
       "</style>\n",
       "<table border=\"1\" class=\"dataframe\">\n",
       "  <thead>\n",
       "    <tr style=\"text-align: right;\">\n",
       "      <th></th>\n",
       "      <th>pc1</th>\n",
       "      <th>pc2</th>\n",
       "      <th>pc3</th>\n",
       "      <th>pc4</th>\n",
       "      <th>pc5</th>\n",
       "      <th>country</th>\n",
       "      <th>clusters</th>\n",
       "    </tr>\n",
       "  </thead>\n",
       "  <tbody>\n",
       "    <tr>\n",
       "      <th>91</th>\n",
       "      <td>12.634875</td>\n",
       "      <td>8.223170</td>\n",
       "      <td>-0.619224</td>\n",
       "      <td>-4.397469</td>\n",
       "      <td>-1.816076</td>\n",
       "      <td>Luxembourg</td>\n",
       "      <td>2</td>\n",
       "    </tr>\n",
       "    <tr>\n",
       "      <th>113</th>\n",
       "      <td>-3.934562</td>\n",
       "      <td>3.819889</td>\n",
       "      <td>7.928612</td>\n",
       "      <td>0.552150</td>\n",
       "      <td>-1.076631</td>\n",
       "      <td>Nigeria</td>\n",
       "      <td>3</td>\n",
       "    </tr>\n",
       "  </tbody>\n",
       "</table>\n",
       "</div>"
      ],
      "text/plain": [
       "           pc1       pc2       pc3       pc4       pc5     country  clusters\n",
       "91   12.634875  8.223170 -0.619224 -4.397469 -1.816076  Luxembourg         2\n",
       "113  -3.934562  3.819889  7.928612  0.552150 -1.076631     Nigeria         3"
      ]
     },
     "execution_count": 946,
     "metadata": {},
     "output_type": "execute_result"
    }
   ],
   "source": [
    "#printing countries from cluster 2 and 3\n",
    "pca_df_final[pca_df_final['clusters']>1]"
   ]
  },
  {
   "cell_type": "code",
   "execution_count": 947,
   "metadata": {},
   "outputs": [],
   "source": [
    "#deleting cluster 2 and 3 since it contains very less population seperate action can be taken for these countries\n",
    "pca_df_final=pca_df_final[pca_df_final['clusters']<2]"
   ]
  },
  {
   "cell_type": "code",
   "execution_count": 948,
   "metadata": {},
   "outputs": [
    {
     "data": {
      "text/plain": [
       "<matplotlib.axes._subplots.AxesSubplot at 0x1bdabe936a0>"
      ]
     },
     "execution_count": 948,
     "metadata": {},
     "output_type": "execute_result"
    },
    {
     "data": {
      "image/png": "[encoded data removed]",
      "text/plain": [
       "<Figure size 576x432 with 1 Axes>"
      ]
     },
     "metadata": {},
     "output_type": "display_data"
    }
   ],
   "source": [
    "#plotting data points in pc1,pc2 plane since these 2 caputres maximum variance\n",
    "plt.figure(figsize=[8,6])\n",
    "sns.scatterplot(x='pc1',y='pc2',data=pca_df_final,hue='clusters')"
   ]
  },
  {
   "cell_type": "markdown",
   "metadata": {},
   "source": [
    "\n",
    "### K-means clustering"
   ]
  },
  {
   "cell_type": "code",
   "execution_count": 949,
   "metadata": {},
   "outputs": [],
   "source": [
    "#creating copy of data frame\n",
    "pca_df_final=pca_df_final_copy.copy()"
   ]
  },
  {
   "cell_type": "code",
   "execution_count": 950,
   "metadata": {},
   "outputs": [],
   "source": [
    "from sklearn.cluster import KMeans"
   ]
  },
  {
   "cell_type": "code",
   "execution_count": 951,
   "metadata": {},
   "outputs": [
    {
     "data": {
      "text/plain": [
       "[<matplotlib.lines.Line2D at 0x1bdab434400>]"
      ]
     },
     "execution_count": 951,
     "metadata": {},
     "output_type": "execute_result"
    },
    {
     "data": {
      "image/png": "[encoded data removed]",
      "text/plain": [
       "<Figure size 432x288 with 1 Axes>"
      ]
     },
     "metadata": {},
     "output_type": "display_data"
    }
   ],
   "source": [
    "#elbow curve\n",
    "ssd=[]\n",
    "range_clusters=[2,3,4,5,6,7,8]\n",
    "for clust in range_clusters:\n",
    "    kmeans=KMeans(n_clusters=clust,max_iter=50,random_state=50)\n",
    "    kmeans.fit(pca_df_final)\n",
    "    ssd.append(kmeans.inertia_)\n",
    "plt.plot(ssd)"
   ]
  },
  {
   "cell_type": "markdown",
   "metadata": {},
   "source": [
    "- As we can see from the above plot there is no significant dip from 2 to 3 cluster or we can see elbow like structure at cluster 2 but we can't decide yet the value of K"
   ]
  },
  {
   "cell_type": "code",
   "execution_count": 952,
   "metadata": {},
   "outputs": [
    {
     "name": "stdout",
     "output_type": "stream",
     "text": [
      "for n_cluster=2 silhoute_soure=0.48066046782755917\n",
      "for n_cluster=3 silhoute_soure=0.45415128979715086\n",
      "for n_cluster=4 silhoute_soure=0.4619522027493683\n",
      "for n_cluster=5 silhoute_soure=0.46500328500357124\n",
      "for n_cluster=6 silhoute_soure=0.37681320556246345\n",
      "for n_cluster=7 silhoute_soure=0.3592133785888146\n",
      "for n_cluster=8 silhoute_soure=0.3298372473613854\n"
     ]
    }
   ],
   "source": [
    "#silhoute analysis\n",
    "from sklearn.metrics import silhouette_score\n",
    "\n",
    "\n",
    "range_clusters=[2,3,4,5,6,7,8]\n",
    "for clust in range_clusters:\n",
    "    kmeans=KMeans(n_clusters=clust,max_iter=50,random_state=50)\n",
    "    kmeans.fit(pca_df_final)\n",
    "    cluster_labels=kmeans.labels_\n",
    "    score=silhouette_score(pca_df_final,cluster_labels)\n",
    "   \n",
    "    print(\"for n_cluster={0} silhoute_soure={1}\".format(clust,score))\n"
   ]
  },
  {
   "cell_type": "markdown",
   "metadata": {},
   "source": [
    "- Observing the above silhoute scores cluster 2 has maximum but from bussiness point of view it doesnot make much sense of those clusters so next highest is cluster 4 and also form heirachial clustering cluster 4 made sense so choosing K=4"
   ]
  },
  {
   "cell_type": "code",
   "execution_count": 953,
   "metadata": {},
   "outputs": [
    {
     "data": {
      "text/plain": [
       "KMeans(algorithm='auto', copy_x=True, init='k-means++', max_iter=200,\n",
       "    n_clusters=4, n_init=10, n_jobs=1, precompute_distances='auto',\n",
       "    random_state=50, tol=0.0001, verbose=0)"
      ]
     },
     "execution_count": 953,
     "metadata": {},
     "output_type": "execute_result"
    }
   ],
   "source": [
    "#final model with k=4\n",
    "kmeans=KMeans(n_clusters=4,max_iter=200,random_state=50)\n",
    "kmeans.fit(pca_df_final)\n"
   ]
  },
  {
   "cell_type": "code",
   "execution_count": 954,
   "metadata": {},
   "outputs": [
    {
     "data": {
      "text/plain": [
       "array([2, 0, 0, 2, 0, 0, 0, 1, 1, 0, 0, 0, 0, 0, 0, 1, 0, 2, 0, 0, 0, 2,\n",
       "       0, 1, 0, 2, 2, 0, 2, 1, 0, 2, 2, 0, 0, 0, 2, 2, 2, 0, 2, 0, 1, 0,\n",
       "       1, 0, 0, 0, 0, 2, 2, 0, 0, 1, 1, 2, 2, 0, 1, 2, 1, 0, 0, 2, 2, 0,\n",
       "       2, 0, 1, 0, 0, 0, 2, 1, 1, 1, 0, 1, 0, 0, 2, 2, 1, 0, 2, 0, 0, 2,\n",
       "       2, 0, 0, 3, 0, 2, 2, 0, 0, 2, 1, 2, 0, 0, 0, 0, 0, 0, 2, 0, 2, 0,\n",
       "       1, 1, 2, 2, 1, 0, 2, 0, 0, 0, 0, 0, 1, 1, 0, 0, 2, 0, 0, 2, 0, 0,\n",
       "       2, 3, 0, 1, 2, 2, 0, 1, 0, 0, 2, 0, 1, 1, 0, 2, 0, 2, 2, 0, 0, 0,\n",
       "       0, 2, 0, 1, 1, 1, 0, 0, 0, 0, 0, 2, 2])"
      ]
     },
     "execution_count": 954,
     "metadata": {},
     "output_type": "execute_result"
    }
   ],
   "source": [
    "kmeans.labels_"
   ]
  },
  {
   "cell_type": "code",
   "execution_count": 955,
   "metadata": {},
   "outputs": [],
   "source": [
    "#copying labels in to dataframe\n",
    "pca_df_final['Clusters']=kmeans.labels_"
   ]
  },
  {
   "cell_type": "code",
   "execution_count": 956,
   "metadata": {},
   "outputs": [
    {
     "data": {
      "text/plain": [
       "0    87\n",
       "2    48\n",
       "1    30\n",
       "3     2\n",
       "Name: Clusters, dtype: int64"
      ]
     },
     "execution_count": 956,
     "metadata": {},
     "output_type": "execute_result"
    }
   ],
   "source": [
    "#observing population of clusters\n",
    "pca_df_final['Clusters'].value_counts()"
   ]
  },
  {
   "cell_type": "code",
   "execution_count": 957,
   "metadata": {},
   "outputs": [
    {
     "data": {
      "text/plain": [
       "<matplotlib.axes._subplots.AxesSubplot at 0x1bda84aa7f0>"
      ]
     },
     "execution_count": 957,
     "metadata": {},
     "output_type": "execute_result"
    },
    {
     "data": {
      "image/png": "[encoded data removed]",
      "text/plain": [
       "<Figure size 576x432 with 1 Axes>"
      ]
     },
     "metadata": {},
     "output_type": "display_data"
    }
   ],
   "source": [
    "#plotting data points in pc1,pc2 plane since these 2 caputres maximum variance\n",
    "plt.figure(figsize=[8,6])\n",
    "sns.scatterplot(x='pc1',y='pc2',data=pca_df_final,hue='Clusters')"
   ]
  },
  {
   "cell_type": "markdown",
   "metadata": {},
   "source": [
    "- we can choose kmeans clustering for proceding with analysis since it gives clusters with good population except 3 cluster which contains only 2 countries  and also clusters seems intutive from the above plot which seems better than heirarchial clustering"
   ]
  },
  {
   "cell_type": "markdown",
   "metadata": {},
   "source": [
    "### Analysing clusters on original data set"
   ]
  },
  {
   "cell_type": "code",
   "execution_count": 958,
   "metadata": {},
   "outputs": [],
   "source": [
    "#creating copy of dataframe\n",
    "df_original=df_copy.copy()"
   ]
  },
  {
   "cell_type": "code",
   "execution_count": 959,
   "metadata": {},
   "outputs": [
    {
     "data": {
      "text/html": [
       "<div>\n",
       "<style scoped>\n",
       "    .dataframe tbody tr th:only-of-type {\n",
       "        vertical-align: middle;\n",
       "    }\n",
       "\n",
       "    .dataframe tbody tr th {\n",
       "        vertical-align: top;\n",
       "    }\n",
       "\n",
       "    .dataframe thead th {\n",
       "        text-align: right;\n",
       "    }\n",
       "</style>\n",
       "<table border=\"1\" class=\"dataframe\">\n",
       "  <thead>\n",
       "    <tr style=\"text-align: right;\">\n",
       "      <th></th>\n",
       "      <th>country</th>\n",
       "      <th>child_mort</th>\n",
       "      <th>income</th>\n",
       "      <th>inflation</th>\n",
       "      <th>life_expec</th>\n",
       "      <th>total_fer</th>\n",
       "      <th>gdpp</th>\n",
       "      <th>exports_per_capita</th>\n",
       "      <th>health_per_capita</th>\n",
       "      <th>imports_per_capita</th>\n",
       "    </tr>\n",
       "  </thead>\n",
       "  <tbody>\n",
       "    <tr>\n",
       "      <th>0</th>\n",
       "      <td>Afghanistan</td>\n",
       "      <td>90.2</td>\n",
       "      <td>1610</td>\n",
       "      <td>9.44</td>\n",
       "      <td>56.2</td>\n",
       "      <td>5.82</td>\n",
       "      <td>553</td>\n",
       "      <td>55.30</td>\n",
       "      <td>41.9174</td>\n",
       "      <td>248.297</td>\n",
       "    </tr>\n",
       "    <tr>\n",
       "      <th>1</th>\n",
       "      <td>Albania</td>\n",
       "      <td>16.6</td>\n",
       "      <td>9930</td>\n",
       "      <td>4.49</td>\n",
       "      <td>76.3</td>\n",
       "      <td>1.65</td>\n",
       "      <td>4090</td>\n",
       "      <td>1145.20</td>\n",
       "      <td>267.8950</td>\n",
       "      <td>1987.740</td>\n",
       "    </tr>\n",
       "    <tr>\n",
       "      <th>2</th>\n",
       "      <td>Algeria</td>\n",
       "      <td>27.3</td>\n",
       "      <td>12900</td>\n",
       "      <td>16.10</td>\n",
       "      <td>76.5</td>\n",
       "      <td>2.89</td>\n",
       "      <td>4460</td>\n",
       "      <td>1712.64</td>\n",
       "      <td>185.9820</td>\n",
       "      <td>1400.440</td>\n",
       "    </tr>\n",
       "    <tr>\n",
       "      <th>3</th>\n",
       "      <td>Angola</td>\n",
       "      <td>119.0</td>\n",
       "      <td>5900</td>\n",
       "      <td>22.40</td>\n",
       "      <td>60.1</td>\n",
       "      <td>6.16</td>\n",
       "      <td>3530</td>\n",
       "      <td>2199.19</td>\n",
       "      <td>100.6050</td>\n",
       "      <td>1514.370</td>\n",
       "    </tr>\n",
       "    <tr>\n",
       "      <th>4</th>\n",
       "      <td>Antigua and Barbuda</td>\n",
       "      <td>10.3</td>\n",
       "      <td>19100</td>\n",
       "      <td>1.44</td>\n",
       "      <td>76.8</td>\n",
       "      <td>2.13</td>\n",
       "      <td>12200</td>\n",
       "      <td>5551.00</td>\n",
       "      <td>735.6600</td>\n",
       "      <td>7185.800</td>\n",
       "    </tr>\n",
       "  </tbody>\n",
       "</table>\n",
       "</div>"
      ],
      "text/plain": [
       "               country  child_mort  income  inflation  life_expec  total_fer  \\\n",
       "0          Afghanistan        90.2    1610       9.44        56.2       5.82   \n",
       "1              Albania        16.6    9930       4.49        76.3       1.65   \n",
       "2              Algeria        27.3   12900      16.10        76.5       2.89   \n",
       "3               Angola       119.0    5900      22.40        60.1       6.16   \n",
       "4  Antigua and Barbuda        10.3   19100       1.44        76.8       2.13   \n",
       "\n",
       "    gdpp  exports_per_capita  health_per_capita  imports_per_capita  \n",
       "0    553               55.30            41.9174             248.297  \n",
       "1   4090             1145.20           267.8950            1987.740  \n",
       "2   4460             1712.64           185.9820            1400.440  \n",
       "3   3530             2199.19           100.6050            1514.370  \n",
       "4  12200             5551.00           735.6600            7185.800  "
      ]
     },
     "execution_count": 959,
     "metadata": {},
     "output_type": "execute_result"
    }
   ],
   "source": [
    "#droping unncessary columns form original data set\n",
    "df_original.drop(['imports','health','exports'],axis=1,inplace=True)\n",
    "df_original.head()"
   ]
  },
  {
   "cell_type": "code",
   "execution_count": 960,
   "metadata": {},
   "outputs": [],
   "source": [
    "# merrging cluster labels to original data set\n",
    "df_original['clusters']=kmeans.labels_"
   ]
  },
  {
   "cell_type": "code",
   "execution_count": 961,
   "metadata": {},
   "outputs": [
    {
     "name": "stdout",
     "output_type": "stream",
     "text": [
      "<class 'pandas.core.frame.DataFrame'>\n",
      "RangeIndex: 167 entries, 0 to 166\n",
      "Data columns (total 11 columns):\n",
      "country               167 non-null object\n",
      "child_mort            167 non-null float64\n",
      "income                167 non-null int64\n",
      "inflation             167 non-null float64\n",
      "life_expec            167 non-null float64\n",
      "total_fer             167 non-null float64\n",
      "gdpp                  167 non-null int64\n",
      "exports_per_capita    167 non-null float64\n",
      "health_per_capita     167 non-null float64\n",
      "imports_per_capita    167 non-null float64\n",
      "clusters              167 non-null int32\n",
      "dtypes: float64(7), int32(1), int64(2), object(1)\n",
      "memory usage: 13.8+ KB\n"
     ]
    }
   ],
   "source": [
    "#information of dataset\n",
    "df_original.info()"
   ]
  },
  {
   "cell_type": "code",
   "execution_count": 962,
   "metadata": {},
   "outputs": [],
   "source": [
    "#converting clustering column in to object\n",
    "df_original['clusters']=df_original['clusters'].astype(str)"
   ]
  },
  {
   "cell_type": "code",
   "execution_count": 963,
   "metadata": {},
   "outputs": [
    {
     "data": {
      "image/png": "[encoded data removed]",
      "text/plain": [
       "<Figure size 1080x1800 with 9 Axes>"
      ]
     },
     "metadata": {},
     "output_type": "display_data"
    }
   ],
   "source": [
    "#Analysing clusters with original features\n",
    "plt.figure(figsize=[15,25])\n",
    "columns=list(df_original.columns)\n",
    "columns=list(df_original.columns)\n",
    "columns.remove('country')\n",
    "columns.remove('clusters')\n",
    "for cols,i in zip(columns,range(1,10)):\n",
    "    plt.subplot(5,2,i)\n",
    "    sns.boxplot(y=cols,x='clusters',data=df_original)"
   ]
  },
  {
   "cell_type": "code",
   "execution_count": 964,
   "metadata": {},
   "outputs": [
    {
     "data": {
      "text/plain": [
       "<matplotlib.axes._subplots.AxesSubplot at 0x1bdac0a3fd0>"
      ]
     },
     "execution_count": 964,
     "metadata": {},
     "output_type": "execute_result"
    },
    {
     "data": {
      "image/png": "[encoded data removed]",
      "text/plain": [
       "<Figure size 576x432 with 1 Axes>"
      ]
     },
     "metadata": {},
     "output_type": "display_data"
    }
   ],
   "source": [
    "df_original['clusters']=df_original['clusters'].astype('int64')\n",
    "plt.figure(figsize=[8,6])\n",
    "sns.scatterplot(x='gdpp',y='child_mort',hue='clusters',data=df_original)"
   ]
  },
  {
   "cell_type": "markdown",
   "metadata": {},
   "source": [
    "- Observations from the above plots\n",
    "    - Cluster 3 does not have much population so we can merge with cluster 1 since their behaviour with features is almost same\n",
    "    - cluster 1 and 3 are developed countries because they have high gdpp,high income and low child_mort\n",
    "    - cluster 0 is developing because they have average gdpp,average income and average child_mort\n",
    "    - cluster 2 is under developed because they have low gdpp,low income and high child_mort"
   ]
  },
  {
   "cell_type": "code",
   "execution_count": 965,
   "metadata": {
    "scrolled": true
   },
   "outputs": [
    {
     "data": {
      "text/plain": [
       "7                 Australia\n",
       "8                   Austria\n",
       "15                  Belgium\n",
       "23                   Brunei\n",
       "29                   Canada\n",
       "42                   Cyprus\n",
       "44                  Denmark\n",
       "53                  Finland\n",
       "54                   France\n",
       "58                  Germany\n",
       "60                   Greece\n",
       "68                  Iceland\n",
       "73                  Ireland\n",
       "74                   Israel\n",
       "75                    Italy\n",
       "77                    Japan\n",
       "82                   Kuwait\n",
       "91               Luxembourg\n",
       "98                    Malta\n",
       "110             Netherlands\n",
       "111             New Zealand\n",
       "114                  Norway\n",
       "122                Portugal\n",
       "123                   Qatar\n",
       "133               Singapore\n",
       "135                Slovenia\n",
       "139                   Spain\n",
       "144                  Sweden\n",
       "145             Switzerland\n",
       "157    United Arab Emirates\n",
       "158          United Kingdom\n",
       "159           United States\n",
       "Name: country, dtype: object"
      ]
     },
     "execution_count": 965,
     "metadata": {},
     "output_type": "execute_result"
    }
   ],
   "source": [
    "#choosing cluster 1 and 3\n",
    "df_original.loc[(df_original['clusters']==3) | (df_original['clusters']==1),'country']"
   ]
  },
  {
   "cell_type": "markdown",
   "metadata": {},
   "source": [
    "- The above countries are developed belonging to cluster 3 and 1"
   ]
  },
  {
   "cell_type": "code",
   "execution_count": 966,
   "metadata": {
    "scrolled": true
   },
   "outputs": [
    {
     "data": {
      "text/plain": [
       "1                             Albania\n",
       "2                             Algeria\n",
       "4                 Antigua and Barbuda\n",
       "5                           Argentina\n",
       "6                             Armenia\n",
       "9                          Azerbaijan\n",
       "10                            Bahamas\n",
       "11                            Bahrain\n",
       "12                         Bangladesh\n",
       "13                           Barbados\n",
       "14                            Belarus\n",
       "16                             Belize\n",
       "18                             Bhutan\n",
       "19                            Bolivia\n",
       "20             Bosnia and Herzegovina\n",
       "22                             Brazil\n",
       "24                           Bulgaria\n",
       "27                           Cambodia\n",
       "30                         Cape Verde\n",
       "33                              Chile\n",
       "34                              China\n",
       "35                           Colombia\n",
       "39                         Costa Rica\n",
       "41                            Croatia\n",
       "43                     Czech Republic\n",
       "45                 Dominican Republic\n",
       "46                            Ecuador\n",
       "47                              Egypt\n",
       "48                        El Salvador\n",
       "51                            Estonia\n",
       "52                               Fiji\n",
       "57                            Georgia\n",
       "61                            Grenada\n",
       "62                          Guatemala\n",
       "65                             Guyana\n",
       "67                            Hungary\n",
       "69                              India\n",
       "70                          Indonesia\n",
       "71                               Iran\n",
       "76                            Jamaica\n",
       "78                             Jordan\n",
       "79                         Kazakhstan\n",
       "83                    Kyrgyz Republic\n",
       "85                             Latvia\n",
       "86                            Lebanon\n",
       "89                              Libya\n",
       "90                          Lithuania\n",
       "92                     Macedonia, FYR\n",
       "95                           Malaysia\n",
       "96                           Maldives\n",
       "100                         Mauritius\n",
       "101             Micronesia, Fed. Sts.\n",
       "102                           Moldova\n",
       "103                          Mongolia\n",
       "104                        Montenegro\n",
       "105                           Morocco\n",
       "107                           Myanmar\n",
       "109                             Nepal\n",
       "115                              Oman\n",
       "117                            Panama\n",
       "118                          Paraguay\n",
       "119                              Peru\n",
       "120                       Philippines\n",
       "121                            Poland\n",
       "124                           Romania\n",
       "125                            Russia\n",
       "127                             Samoa\n",
       "128                      Saudi Arabia\n",
       "130                            Serbia\n",
       "131                        Seychelles\n",
       "134                   Slovak Republic\n",
       "138                       South Korea\n",
       "140                         Sri Lanka\n",
       "141    St. Vincent and the Grenadines\n",
       "143                          Suriname\n",
       "146                        Tajikistan\n",
       "148                          Thailand\n",
       "151                             Tonga\n",
       "152                           Tunisia\n",
       "153                            Turkey\n",
       "154                      Turkmenistan\n",
       "156                           Ukraine\n",
       "160                           Uruguay\n",
       "161                        Uzbekistan\n",
       "162                           Vanuatu\n",
       "163                         Venezuela\n",
       "164                           Vietnam\n",
       "Name: country, dtype: object"
      ]
     },
     "execution_count": 966,
     "metadata": {},
     "output_type": "execute_result"
    }
   ],
   "source": [
    "#choosing cluster 0\n",
    "pd.set_option('display.max_rows',200)\n",
    "df_original.loc[(df_original['clusters']==0),'country']"
   ]
  },
  {
   "cell_type": "markdown",
   "metadata": {},
   "source": [
    "- The above displayed countries are developing belonging to cluster 0"
   ]
  },
  {
   "cell_type": "code",
   "execution_count": 967,
   "metadata": {
    "scrolled": true
   },
   "outputs": [
    {
     "data": {
      "text/plain": [
       "0                   Afghanistan\n",
       "3                        Angola\n",
       "17                        Benin\n",
       "21                     Botswana\n",
       "25                 Burkina Faso\n",
       "26                      Burundi\n",
       "28                     Cameroon\n",
       "31     Central African Republic\n",
       "32                         Chad\n",
       "36                      Comoros\n",
       "37             Congo, Dem. Rep.\n",
       "38                  Congo, Rep.\n",
       "40                Cote d'Ivoire\n",
       "49            Equatorial Guinea\n",
       "50                      Eritrea\n",
       "55                        Gabon\n",
       "56                       Gambia\n",
       "59                        Ghana\n",
       "63                       Guinea\n",
       "64                Guinea-Bissau\n",
       "66                        Haiti\n",
       "72                         Iraq\n",
       "80                        Kenya\n",
       "81                     Kiribati\n",
       "84                          Lao\n",
       "87                      Lesotho\n",
       "88                      Liberia\n",
       "93                   Madagascar\n",
       "94                       Malawi\n",
       "97                         Mali\n",
       "99                   Mauritania\n",
       "106                  Mozambique\n",
       "108                     Namibia\n",
       "112                       Niger\n",
       "113                     Nigeria\n",
       "116                    Pakistan\n",
       "126                      Rwanda\n",
       "129                     Senegal\n",
       "132                Sierra Leone\n",
       "136             Solomon Islands\n",
       "137                South Africa\n",
       "142                       Sudan\n",
       "147                    Tanzania\n",
       "149                 Timor-Leste\n",
       "150                        Togo\n",
       "155                      Uganda\n",
       "165                       Yemen\n",
       "166                      Zambia\n",
       "Name: country, dtype: object"
      ]
     },
     "execution_count": 967,
     "metadata": {},
     "output_type": "execute_result"
    }
   ],
   "source": [
    "#choosing cluster 2\n",
    "df_original.loc[(df_original['clusters']==2),'country']"
   ]
  },
  {
   "cell_type": "markdown",
   "metadata": {},
   "source": [
    "- The above displayed countries are under developed belonging to cluster 2"
   ]
  },
  {
   "cell_type": "code",
   "execution_count": 968,
   "metadata": {},
   "outputs": [
    {
     "data": {
      "text/html": [
       "<div>\n",
       "<style scoped>\n",
       "    .dataframe tbody tr th:only-of-type {\n",
       "        vertical-align: middle;\n",
       "    }\n",
       "\n",
       "    .dataframe tbody tr th {\n",
       "        vertical-align: top;\n",
       "    }\n",
       "\n",
       "    .dataframe thead th {\n",
       "        text-align: right;\n",
       "    }\n",
       "</style>\n",
       "<table border=\"1\" class=\"dataframe\">\n",
       "  <thead>\n",
       "    <tr style=\"text-align: right;\">\n",
       "      <th></th>\n",
       "      <th>child_mort</th>\n",
       "      <th>income</th>\n",
       "      <th>inflation</th>\n",
       "      <th>life_expec</th>\n",
       "      <th>total_fer</th>\n",
       "      <th>gdpp</th>\n",
       "      <th>exports_per_capita</th>\n",
       "      <th>health_per_capita</th>\n",
       "      <th>imports_per_capita</th>\n",
       "    </tr>\n",
       "    <tr>\n",
       "      <th>clusters</th>\n",
       "      <th></th>\n",
       "      <th></th>\n",
       "      <th></th>\n",
       "      <th></th>\n",
       "      <th></th>\n",
       "      <th></th>\n",
       "      <th></th>\n",
       "      <th></th>\n",
       "      <th></th>\n",
       "    </tr>\n",
       "  </thead>\n",
       "  <tbody>\n",
       "    <tr>\n",
       "      <th>0</th>\n",
       "      <td>21.113793</td>\n",
       "      <td>13297.586207</td>\n",
       "      <td>7.371506</td>\n",
       "      <td>73.147126</td>\n",
       "      <td>2.251954</td>\n",
       "      <td>7158.298851</td>\n",
       "      <td>3328.149408</td>\n",
       "      <td>460.000120</td>\n",
       "      <td>3404.497944</td>\n",
       "    </tr>\n",
       "    <tr>\n",
       "      <th>1</th>\n",
       "      <td>5.043333</td>\n",
       "      <td>45180.000000</td>\n",
       "      <td>2.764533</td>\n",
       "      <td>80.383333</td>\n",
       "      <td>1.799667</td>\n",
       "      <td>43300.000000</td>\n",
       "      <td>21018.310000</td>\n",
       "      <td>4031.304333</td>\n",
       "      <td>17806.070000</td>\n",
       "    </tr>\n",
       "    <tr>\n",
       "      <th>2</th>\n",
       "      <td>91.610417</td>\n",
       "      <td>3897.354167</td>\n",
       "      <td>11.911146</td>\n",
       "      <td>59.239583</td>\n",
       "      <td>4.992083</td>\n",
       "      <td>1909.208333</td>\n",
       "      <td>879.063521</td>\n",
       "      <td>114.821765</td>\n",
       "      <td>827.028771</td>\n",
       "    </tr>\n",
       "    <tr>\n",
       "      <th>3</th>\n",
       "      <td>2.800000</td>\n",
       "      <td>81900.000000</td>\n",
       "      <td>1.787000</td>\n",
       "      <td>82.000000</td>\n",
       "      <td>1.390000</td>\n",
       "      <td>75800.000000</td>\n",
       "      <td>138475.000000</td>\n",
       "      <td>5001.930000</td>\n",
       "      <td>115092.000000</td>\n",
       "    </tr>\n",
       "  </tbody>\n",
       "</table>\n",
       "</div>"
      ],
      "text/plain": [
       "          child_mort        income  inflation  life_expec  total_fer  \\\n",
       "clusters                                                               \n",
       "0          21.113793  13297.586207   7.371506   73.147126   2.251954   \n",
       "1           5.043333  45180.000000   2.764533   80.383333   1.799667   \n",
       "2          91.610417   3897.354167  11.911146   59.239583   4.992083   \n",
       "3           2.800000  81900.000000   1.787000   82.000000   1.390000   \n",
       "\n",
       "                  gdpp  exports_per_capita  health_per_capita  \\\n",
       "clusters                                                        \n",
       "0          7158.298851         3328.149408         460.000120   \n",
       "1         43300.000000        21018.310000        4031.304333   \n",
       "2          1909.208333          879.063521         114.821765   \n",
       "3         75800.000000       138475.000000        5001.930000   \n",
       "\n",
       "          imports_per_capita  \n",
       "clusters                      \n",
       "0                3404.497944  \n",
       "1               17806.070000  \n",
       "2                 827.028771  \n",
       "3              115092.000000  "
      ]
     },
     "execution_count": 968,
     "metadata": {},
     "output_type": "execute_result"
    }
   ],
   "source": [
    "#getting the means of clusters for each columns\n",
    "df_original.groupby(by='clusters').mean()"
   ]
  },
  {
   "cell_type": "markdown",
   "metadata": {},
   "source": [
    "- we are deciding the country developed or developing or under developed based on these features child_mort,income,gdpp,inflation. Therefore using binning concept on these features\n",
    "- we came to know that countries having high child_mort,low income, low gdpp,high inflation falls in the category of under developed countries after observing above plots"
   ]
  },
  {
   "cell_type": "code",
   "execution_count": 969,
   "metadata": {},
   "outputs": [
    {
     "data": {
      "text/html": [
       "<div>\n",
       "<style scoped>\n",
       "    .dataframe tbody tr th:only-of-type {\n",
       "        vertical-align: middle;\n",
       "    }\n",
       "\n",
       "    .dataframe tbody tr th {\n",
       "        vertical-align: top;\n",
       "    }\n",
       "\n",
       "    .dataframe thead th {\n",
       "        text-align: right;\n",
       "    }\n",
       "</style>\n",
       "<table border=\"1\" class=\"dataframe\">\n",
       "  <thead>\n",
       "    <tr style=\"text-align: right;\">\n",
       "      <th></th>\n",
       "      <th>country</th>\n",
       "      <th>child_mort</th>\n",
       "      <th>income</th>\n",
       "      <th>inflation</th>\n",
       "      <th>life_expec</th>\n",
       "      <th>total_fer</th>\n",
       "      <th>gdpp</th>\n",
       "      <th>exports_per_capita</th>\n",
       "      <th>health_per_capita</th>\n",
       "      <th>imports_per_capita</th>\n",
       "      <th>clusters</th>\n",
       "    </tr>\n",
       "  </thead>\n",
       "  <tbody>\n",
       "    <tr>\n",
       "      <th>26</th>\n",
       "      <td>Burundi</td>\n",
       "      <td>93.6</td>\n",
       "      <td>764</td>\n",
       "      <td>12.3</td>\n",
       "      <td>57.7</td>\n",
       "      <td>6.26</td>\n",
       "      <td>231</td>\n",
       "      <td>20.6052</td>\n",
       "      <td>26.7960</td>\n",
       "      <td>90.552</td>\n",
       "      <td>2</td>\n",
       "    </tr>\n",
       "    <tr>\n",
       "      <th>37</th>\n",
       "      <td>Congo, Dem. Rep.</td>\n",
       "      <td>116.0</td>\n",
       "      <td>609</td>\n",
       "      <td>20.8</td>\n",
       "      <td>57.5</td>\n",
       "      <td>6.54</td>\n",
       "      <td>334</td>\n",
       "      <td>137.2740</td>\n",
       "      <td>26.4194</td>\n",
       "      <td>165.664</td>\n",
       "      <td>2</td>\n",
       "    </tr>\n",
       "    <tr>\n",
       "      <th>63</th>\n",
       "      <td>Guinea</td>\n",
       "      <td>109.0</td>\n",
       "      <td>1190</td>\n",
       "      <td>16.1</td>\n",
       "      <td>58.0</td>\n",
       "      <td>5.34</td>\n",
       "      <td>648</td>\n",
       "      <td>196.3440</td>\n",
       "      <td>31.9464</td>\n",
       "      <td>279.936</td>\n",
       "      <td>2</td>\n",
       "    </tr>\n",
       "    <tr>\n",
       "      <th>99</th>\n",
       "      <td>Mauritania</td>\n",
       "      <td>97.4</td>\n",
       "      <td>3320</td>\n",
       "      <td>18.9</td>\n",
       "      <td>68.2</td>\n",
       "      <td>4.98</td>\n",
       "      <td>1200</td>\n",
       "      <td>608.4000</td>\n",
       "      <td>52.9200</td>\n",
       "      <td>734.400</td>\n",
       "      <td>2</td>\n",
       "    </tr>\n",
       "    <tr>\n",
       "      <th>132</th>\n",
       "      <td>Sierra Leone</td>\n",
       "      <td>160.0</td>\n",
       "      <td>1220</td>\n",
       "      <td>17.2</td>\n",
       "      <td>55.0</td>\n",
       "      <td>5.20</td>\n",
       "      <td>399</td>\n",
       "      <td>67.0320</td>\n",
       "      <td>52.2690</td>\n",
       "      <td>137.655</td>\n",
       "      <td>2</td>\n",
       "    </tr>\n",
       "  </tbody>\n",
       "</table>\n",
       "</div>"
      ],
      "text/plain": [
       "              country  child_mort  income  inflation  life_expec  total_fer  \\\n",
       "26            Burundi        93.6     764       12.3        57.7       6.26   \n",
       "37   Congo, Dem. Rep.       116.0     609       20.8        57.5       6.54   \n",
       "63             Guinea       109.0    1190       16.1        58.0       5.34   \n",
       "99         Mauritania        97.4    3320       18.9        68.2       4.98   \n",
       "132      Sierra Leone       160.0    1220       17.2        55.0       5.20   \n",
       "\n",
       "     gdpp  exports_per_capita  health_per_capita  imports_per_capita  clusters  \n",
       "26    231             20.6052            26.7960              90.552         2  \n",
       "37    334            137.2740            26.4194             165.664         2  \n",
       "63    648            196.3440            31.9464             279.936         2  \n",
       "99   1200            608.4000            52.9200             734.400         2  \n",
       "132   399             67.0320            52.2690             137.655         2  "
      ]
     },
     "execution_count": 969,
     "metadata": {},
     "output_type": "execute_result"
    }
   ],
   "source": [
    "#using binning to get countries which are performing bad in under developed cluster\n",
    "df_final=df_original.loc[(df_original['child_mort']>=91.61) & (df_original['income']<=3897.35) & (df_original['gdpp']<=1909.2) & (df_original['inflation']>=11.9) ]\n",
    "df_final"
   ]
  },
  {
   "cell_type": "markdown",
   "metadata": {},
   "source": [
    "## The countries which are in dier need of help are\n",
    "1. Burund \n",
    "2. Congo,Dem. Rep\n",
    "3. Guinea,\n",
    "4. Mauritania\n",
    "5. Sierra Leone"
   ]
  },
  {
   "cell_type": "markdown",
   "metadata": {},
   "source": [
    "**These countries have high child_mort, low net income per person,low gdpp and high inflation**"
   ]
  },
  {
   "cell_type": "code",
   "execution_count": null,
   "metadata": {},
   "outputs": [],
   "source": []
  }
 ],
 "metadata": {
  "kernelspec": {
   "display_name": "Python 3",
   "language": "python",
   "name": "python3"
  },
  "language_info": {
   "codemirror_mode": {
    "name": "ipython",
    "version": 3
   },
   "file_extension": ".py",
   "mimetype": "text/x-python",
   "name": "python",
   "nbconvert_exporter": "python",
   "pygments_lexer": "ipython3",
   "version": "3.6.10"
  }
 },
 "nbformat": 4,
 "nbformat_minor": 2
}
